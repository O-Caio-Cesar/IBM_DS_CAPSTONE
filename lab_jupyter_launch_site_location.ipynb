{
  "metadata": {
    "kernelspec": {
      "name": "python",
      "display_name": "Python (Pyodide)",
      "language": "python"
    },
    "language_info": {
      "codemirror_mode": {
        "name": "python",
        "version": 3
      },
      "file_extension": ".py",
      "mimetype": "text/x-python",
      "name": "python",
      "nbconvert_exporter": "python",
      "pygments_lexer": "ipython3",
      "version": "3.8"
    },
    "prev_pub_hash": "0f9db842b41c859223722809f8be602f5df9334348bd206b11e3af58c30eb345"
  },
  "nbformat_minor": 4,
  "nbformat": 4,
  "cells": [
    {
      "cell_type": "markdown",
      "source": "<p style=\"text-align:center\">\n    <a href=\"https://skills.network/?utm_medium=Exinfluencer&utm_source=Exinfluencer&utm_content=000026UJ&utm_term=10006555&utm_id=NA-SkillsNetwork-Channel-SkillsNetworkCoursesIBMDS0321ENSkillsNetwork26802033-2022-01-01\" target=\"_blank\">\n    <img src=\"https://cf-courses-data.s3.us.cloud-object-storage.appdomain.cloud/assets/logos/SN_web_lightmode.png\" width=\"200\" alt=\"Skills Network Logo\">\n    </a>\n</p>\n",
      "metadata": {}
    },
    {
      "cell_type": "markdown",
      "source": "# **Hands-on Lab: Interactive Visual Analytics with Folium**\n",
      "metadata": {}
    },
    {
      "cell_type": "markdown",
      "source": "Estimated time needed: **40** minutes\n",
      "metadata": {}
    },
    {
      "cell_type": "markdown",
      "source": "The launch success rate may depend on many factors such as payload mass, orbit type, and so on. It may also depend on the location and proximities of a launch site, i.e., the initial position of rocket trajectories. Finding an optimal location for building a launch site certainly involves many factors and hopefully we could discover some of the factors by analyzing the existing launch site locations.\n",
      "metadata": {}
    },
    {
      "cell_type": "markdown",
      "source": "In the previous exploratory data analysis labs, you have visualized the SpaceX launch dataset using `matplotlib` and `seaborn` and discovered some preliminary correlations between the launch site and success rates. In this lab, you will be performing more interactive visual analytics using `Folium`.\n",
      "metadata": {}
    },
    {
      "cell_type": "markdown",
      "source": "## Objectives\n",
      "metadata": {}
    },
    {
      "cell_type": "markdown",
      "source": "This lab contains the following tasks:\n\n*   **TASK 1:** Mark all launch sites on a map\n*   **TASK 2:** Mark the success/failed launches for each site on the map\n*   **TASK 3:** Calculate the distances between a launch site to its proximities\n\nAfter completed the above tasks, you should be able to find some geographical patterns about launch sites.\n",
      "metadata": {}
    },
    {
      "cell_type": "markdown",
      "source": "Let's first import required Python packages for this lab:\n",
      "metadata": {}
    },
    {
      "cell_type": "code",
      "source": "import piplite\nawait piplite.install(['folium'])\nawait piplite.install(['pandas'])",
      "metadata": {
        "trusted": true
      },
      "outputs": [],
      "execution_count": 1
    },
    {
      "cell_type": "code",
      "source": "import folium\nimport pandas as pd",
      "metadata": {
        "trusted": true
      },
      "outputs": [],
      "execution_count": 2
    },
    {
      "cell_type": "code",
      "source": "# Import folium MarkerCluster plugin\nfrom folium.plugins import MarkerCluster\n# Import folium MousePosition plugin\nfrom folium.plugins import MousePosition\n# Import folium DivIcon plugin\nfrom folium.features import DivIcon",
      "metadata": {
        "trusted": true
      },
      "outputs": [],
      "execution_count": 3
    },
    {
      "cell_type": "markdown",
      "source": "If you need to refresh your memory about folium, you may download and refer to this previous folium lab:\n",
      "metadata": {}
    },
    {
      "cell_type": "markdown",
      "source": "[Generating Maps with Python](https://cf-courses-data.s3.us.cloud-object-storage.appdomain.cloud/IBMDeveloperSkillsNetwork-DV0101EN-SkillsNetwork/labs/v4/DV0101EN-Exercise-Generating-Maps-in-Python.ipynb)\n",
      "metadata": {}
    },
    {
      "cell_type": "code",
      "source": "## Task 1: Mark all launch sites on a map\n",
      "metadata": {},
      "outputs": [],
      "execution_count": null
    },
    {
      "cell_type": "markdown",
      "source": "First, let's try to add each site's location on a map using site's latitude and longitude coordinates\n",
      "metadata": {}
    },
    {
      "cell_type": "markdown",
      "source": "The following dataset with the name `spacex_launch_geo.csv` is an augmented dataset with latitude and longitude added for each site.\n",
      "metadata": {}
    },
    {
      "cell_type": "code",
      "source": "# Download and read the `spacex_launch_geo.csv`\nfrom js import fetch\nimport io\n\nURL = 'https://cf-courses-data.s3.us.cloud-object-storage.appdomain.cloud/IBM-DS0321EN-SkillsNetwork/datasets/spacex_launch_geo.csv'\nresp = await fetch(URL)\nspacex_csv_file = io.BytesIO((await resp.arrayBuffer()).to_py())\nspacex_df=pd.read_csv(spacex_csv_file)",
      "metadata": {
        "trusted": true
      },
      "outputs": [],
      "execution_count": 4
    },
    {
      "cell_type": "markdown",
      "source": "Now, you can take a look at what are the coordinates for each site.\n",
      "metadata": {}
    },
    {
      "cell_type": "code",
      "source": "# Select relevant sub-columns: `Launch Site`, `Lat(Latitude)`, `Long(Longitude)`, `class`\nspacex_df = spacex_df[['Launch Site', 'Lat', 'Long', 'class']]\nlaunch_sites_df = spacex_df.groupby(['Launch Site'], as_index=False).first()\nlaunch_sites_df = launch_sites_df[['Launch Site', 'Lat', 'Long']]\nlaunch_sites_df",
      "metadata": {
        "trusted": true
      },
      "outputs": [
        {
          "execution_count": 5,
          "output_type": "execute_result",
          "data": {
            "text/plain": "    Launch Site        Lat        Long\n0   CCAFS LC-40  28.562302  -80.577356\n1  CCAFS SLC-40  28.563197  -80.576820\n2    KSC LC-39A  28.573255  -80.646895\n3   VAFB SLC-4E  34.632834 -120.610745",
            "text/html": "<div>\n<style scoped>\n    .dataframe tbody tr th:only-of-type {\n        vertical-align: middle;\n    }\n\n    .dataframe tbody tr th {\n        vertical-align: top;\n    }\n\n    .dataframe thead th {\n        text-align: right;\n    }\n</style>\n<table border=\"1\" class=\"dataframe\">\n  <thead>\n    <tr style=\"text-align: right;\">\n      <th></th>\n      <th>Launch Site</th>\n      <th>Lat</th>\n      <th>Long</th>\n    </tr>\n  </thead>\n  <tbody>\n    <tr>\n      <th>0</th>\n      <td>CCAFS LC-40</td>\n      <td>28.562302</td>\n      <td>-80.577356</td>\n    </tr>\n    <tr>\n      <th>1</th>\n      <td>CCAFS SLC-40</td>\n      <td>28.563197</td>\n      <td>-80.576820</td>\n    </tr>\n    <tr>\n      <th>2</th>\n      <td>KSC LC-39A</td>\n      <td>28.573255</td>\n      <td>-80.646895</td>\n    </tr>\n    <tr>\n      <th>3</th>\n      <td>VAFB SLC-4E</td>\n      <td>34.632834</td>\n      <td>-120.610745</td>\n    </tr>\n  </tbody>\n</table>\n</div>"
          },
          "metadata": {}
        }
      ],
      "execution_count": 5
    },
    {
      "cell_type": "markdown",
      "source": "Above coordinates are just plain numbers that can not give you any intuitive insights about where are those launch sites. If you are very good at geography, you can interpret those numbers directly in your mind. If not, that's fine too. Let's visualize those locations by pinning them on a map.\n",
      "metadata": {}
    },
    {
      "cell_type": "markdown",
      "source": "We first need to create a folium `Map` object, with an initial center location to be NASA Johnson Space Center at Houston, Texas.\n",
      "metadata": {}
    },
    {
      "cell_type": "code",
      "source": "# Start location is NASA Johnson Space Center\nnasa_coordinate = [29.559684888503615, -95.0830971930759]\nsite_map = folium.Map(location=nasa_coordinate, zoom_start=10)",
      "metadata": {
        "trusted": true
      },
      "outputs": [],
      "execution_count": 6
    },
    {
      "cell_type": "markdown",
      "source": "We could use `folium.Circle` to add a highlighted circle area with a text label on a specific coordinate. For example,\n",
      "metadata": {}
    },
    {
      "cell_type": "code",
      "source": "# Create a blue circle at NASA Johnson Space Center's coordinate with a popup label showing its name\ncircle = folium.Circle(nasa_coordinate, radius=1000, color='#d35400', fill=True).add_child(folium.Popup('NASA Johnson Space Center'))\n# Create a blue circle at NASA Johnson Space Center's coordinate with a icon showing its name\nmarker = folium.map.Marker(\n    nasa_coordinate,\n    # Create an icon as a text label\n    icon=DivIcon(\n        icon_size=(20,20),\n        icon_anchor=(0,0),\n        html='<div style=\"font-size: 12; color:#d35400;\"><b>%s</b></div>' % 'NASA JSC',\n        )\n    )\nsite_map.add_child(circle)\nsite_map.add_child(marker)",
      "metadata": {
        "trusted": true
      },
      "outputs": [
        {
          "execution_count": 7,
          "output_type": "execute_result",
          "data": {
            "text/plain": "<folium.folium.Map at 0x3b5e100>",
            "text/html": "<div style=\"width:100%;\"><div style=\"position:relative;width:100%;height:0;padding-bottom:60%;\"><span style=\"color:#565656\">Make this Notebook Trusted to load map: File -> Trust Notebook</span><iframe srcdoc=\"&lt;!DOCTYPE html&gt;\n&lt;html&gt;\n&lt;head&gt;\n    \n    &lt;meta http-equiv=&quot;content-type&quot; content=&quot;text/html; charset=UTF-8&quot; /&gt;\n    \n        &lt;script&gt;\n            L_NO_TOUCH = false;\n            L_DISABLE_3D = false;\n        &lt;/script&gt;\n    \n    &lt;style&gt;html, body {width: 100%;height: 100%;margin: 0;padding: 0;}&lt;/style&gt;\n    &lt;style&gt;#map {position:absolute;top:0;bottom:0;right:0;left:0;}&lt;/style&gt;\n    &lt;script src=&quot;https://cdn.jsdelivr.net/npm/leaflet@1.9.3/dist/leaflet.js&quot;&gt;&lt;/script&gt;\n    &lt;script src=&quot;https://code.jquery.com/jquery-3.7.1.min.js&quot;&gt;&lt;/script&gt;\n    &lt;script src=&quot;https://cdn.jsdelivr.net/npm/bootstrap@5.2.2/dist/js/bootstrap.bundle.min.js&quot;&gt;&lt;/script&gt;\n    &lt;script src=&quot;https://cdnjs.cloudflare.com/ajax/libs/Leaflet.awesome-markers/2.0.2/leaflet.awesome-markers.js&quot;&gt;&lt;/script&gt;\n    &lt;link rel=&quot;stylesheet&quot; href=&quot;https://cdn.jsdelivr.net/npm/leaflet@1.9.3/dist/leaflet.css&quot;/&gt;\n    &lt;link rel=&quot;stylesheet&quot; href=&quot;https://cdn.jsdelivr.net/npm/bootstrap@5.2.2/dist/css/bootstrap.min.css&quot;/&gt;\n    &lt;link rel=&quot;stylesheet&quot; href=&quot;https://netdna.bootstrapcdn.com/bootstrap/3.0.0/css/bootstrap-glyphicons.css&quot;/&gt;\n    &lt;link rel=&quot;stylesheet&quot; href=&quot;https://cdn.jsdelivr.net/npm/@fortawesome/fontawesome-free@6.2.0/css/all.min.css&quot;/&gt;\n    &lt;link rel=&quot;stylesheet&quot; href=&quot;https://cdnjs.cloudflare.com/ajax/libs/Leaflet.awesome-markers/2.0.2/leaflet.awesome-markers.css&quot;/&gt;\n    &lt;link rel=&quot;stylesheet&quot; href=&quot;https://cdn.jsdelivr.net/gh/python-visualization/folium/folium/templates/leaflet.awesome.rotate.min.css&quot;/&gt;\n    \n            &lt;meta name=&quot;viewport&quot; content=&quot;width=device-width,\n                initial-scale=1.0, maximum-scale=1.0, user-scalable=no&quot; /&gt;\n            &lt;style&gt;\n                #map_2d6d2b965167c3f87b9a4a7fc0133119 {\n                    position: relative;\n                    width: 100.0%;\n                    height: 100.0%;\n                    left: 0.0%;\n                    top: 0.0%;\n                }\n                .leaflet-container { font-size: 1rem; }\n            &lt;/style&gt;\n        \n&lt;/head&gt;\n&lt;body&gt;\n    \n    \n            &lt;div class=&quot;folium-map&quot; id=&quot;map_2d6d2b965167c3f87b9a4a7fc0133119&quot; &gt;&lt;/div&gt;\n        \n&lt;/body&gt;\n&lt;script&gt;\n    \n    \n            var map_2d6d2b965167c3f87b9a4a7fc0133119 = L.map(\n                &quot;map_2d6d2b965167c3f87b9a4a7fc0133119&quot;,\n                {\n                    center: [29.559684888503615, -95.0830971930759],\n                    crs: L.CRS.EPSG3857,\n                    ...{\n  &quot;maxBounds&quot;: null,\n  &quot;zoom&quot;: 10,\n  &quot;zoomControl&quot;: true,\n  &quot;preferCanvas&quot;: false,\n}\n\n                }\n            );\n\n            \n\n        \n    \n            var tile_layer_34d80b51e9b5bfa9783a855ae0f0e8dc = L.tileLayer(\n                &quot;https://tile.openstreetmap.org/{z}/{x}/{y}.png&quot;,\n                {\n  &quot;minZoom&quot;: 0,\n  &quot;maxZoom&quot;: 19,\n  &quot;maxNativeZoom&quot;: 19,\n  &quot;noWrap&quot;: false,\n  &quot;attribution&quot;: &quot;\\u0026copy; \\u003ca href=\\&quot;https://www.openstreetmap.org/copyright\\&quot;\\u003eOpenStreetMap\\u003c/a\\u003e contributors&quot;,\n  &quot;subdomains&quot;: &quot;abc&quot;,\n  &quot;detectRetina&quot;: false,\n  &quot;tms&quot;: false,\n  &quot;opacity&quot;: 1,\n}\n\n            );\n        \n    \n            tile_layer_34d80b51e9b5bfa9783a855ae0f0e8dc.addTo(map_2d6d2b965167c3f87b9a4a7fc0133119);\n        \n    \n            var circle_e0afc658e0b2d235599cbd57d59a8e85 = L.circle(\n                [29.559684888503615, -95.0830971930759],\n                {&quot;bubblingMouseEvents&quot;: true, &quot;color&quot;: &quot;#d35400&quot;, &quot;dashArray&quot;: null, &quot;dashOffset&quot;: null, &quot;fill&quot;: true, &quot;fillColor&quot;: &quot;#d35400&quot;, &quot;fillOpacity&quot;: 0.2, &quot;fillRule&quot;: &quot;evenodd&quot;, &quot;lineCap&quot;: &quot;round&quot;, &quot;lineJoin&quot;: &quot;round&quot;, &quot;opacity&quot;: 1.0, &quot;radius&quot;: 1000, &quot;stroke&quot;: true, &quot;weight&quot;: 3}\n            ).addTo(map_2d6d2b965167c3f87b9a4a7fc0133119);\n        \n    \n        var popup_cceb770033e814b1c98c8cd0d5fabdc9 = L.popup({\n  &quot;maxWidth&quot;: &quot;100%&quot;,\n  &quot;autoClose&quot;: null,\n  &quot;closeOnClick&quot;: null,\n});\n\n        \n            \n                var html_ae4dfbd29965afd63d286e597b1e7391 = $(`&lt;div id=&quot;html_ae4dfbd29965afd63d286e597b1e7391&quot; style=&quot;width: 100.0%; height: 100.0%;&quot;&gt;NASA Johnson Space Center&lt;/div&gt;`)[0];\n                popup_cceb770033e814b1c98c8cd0d5fabdc9.setContent(html_ae4dfbd29965afd63d286e597b1e7391);\n            \n        \n\n        circle_e0afc658e0b2d235599cbd57d59a8e85.bindPopup(popup_cceb770033e814b1c98c8cd0d5fabdc9)\n        ;\n\n        \n    \n    \n            var marker_befbc7a75d9f643c8ba2bf76c4ba81ac = L.marker(\n                [29.559684888503615, -95.0830971930759],\n                {\n  &quot;draggable&quot;: null,\n  &quot;autoPan&quot;: null,\n}\n            ).addTo(map_2d6d2b965167c3f87b9a4a7fc0133119);\n        \n    \n            var div_icon_698be4709104a80e4f4eb846c5cde00d = L.divIcon({\n  &quot;html&quot;: &quot;\\u003cdiv style=\\&quot;font-size: 12; color:#d35400;\\&quot;\\u003e\\u003cb\\u003eNASA JSC\\u003c/b\\u003e\\u003c/div\\u003e&quot;,\n  &quot;iconSize&quot;: [20, 20],\n  &quot;iconAnchor&quot;: [0, 0],\n  &quot;popupAnchor&quot;: null,\n  &quot;className&quot;: &quot;empty&quot;,\n});\n            marker_befbc7a75d9f643c8ba2bf76c4ba81ac.setIcon(div_icon_698be4709104a80e4f4eb846c5cde00d);\n        \n&lt;/script&gt;\n&lt;/html&gt;\" style=\"position:absolute;width:100%;height:100%;left:0;top:0;border:none !important;\" allowfullscreen webkitallowfullscreen mozallowfullscreen></iframe></div></div>"
          },
          "metadata": {}
        }
      ],
      "execution_count": 7
    },
    {
      "cell_type": "markdown",
      "source": "and you should find a small yellow circle near the city of Houston and you can zoom-in to see a larger circle.\n",
      "metadata": {}
    },
    {
      "cell_type": "markdown",
      "source": "Now, let's add a circle for each launch site in data frame `launch_sites`\n",
      "metadata": {}
    },
    {
      "cell_type": "markdown",
      "source": "*TODO:*  Create and add `folium.Circle` and `folium.Marker` for each launch site on the site map\n",
      "metadata": {}
    },
    {
      "cell_type": "markdown",
      "source": "An example of folium.Circle:\n",
      "metadata": {}
    },
    {
      "cell_type": "markdown",
      "source": "`folium.Circle(coordinate, radius=1000, color='#000000', fill=True).add_child(folium.Popup(...))`\n",
      "metadata": {}
    },
    {
      "cell_type": "markdown",
      "source": "An example of folium.Marker:\n",
      "metadata": {}
    },
    {
      "cell_type": "markdown",
      "source": "`folium.map.Marker(coordinate, icon=DivIcon(icon_size=(20,20),icon_anchor=(0,0), html='<div style=\"font-size: 12; color:#d35400;\"><b>%s</b></div>' % 'label', ))`\n",
      "metadata": {}
    },
    {
      "cell_type": "code",
      "source": "# Initial the map\nsite_map = folium.Map(location=nasa_coordinate, zoom_start=5)\n# For each launch site, add a Circle object based on its coordinate (Lat, Long) values. In addition, add Launch site name as a popup label\n",
      "metadata": {},
      "outputs": [],
      "execution_count": null
    },
    {
      "cell_type": "markdown",
      "source": "The generated map with marked launch sites should look similar to the following:\n",
      "metadata": {}
    },
    {
      "cell_type": "markdown",
      "source": "<center>\n    <img src=\"https://cf-courses-data.s3.us.cloud-object-storage.appdomain.cloud/IBM-DS0321EN-SkillsNetwork/labs/module_3/images/launch_site_markers.png\">\n</center>\n",
      "metadata": {}
    },
    {
      "cell_type": "markdown",
      "source": "Now, you can explore the map by zoom-in/out the marked areas\n, and try to answer the following questions:\n\n*   Are all launch sites in proximity to the Equator line?\n*   Are all launch sites in very close proximity to the coast?\n\nAlso please try to explain your findings.\n",
      "metadata": {}
    },
    {
      "cell_type": "code",
      "source": "# Task 2: Mark the success/failed launches for each site on the map\n",
      "metadata": {},
      "outputs": [],
      "execution_count": null
    },
    {
      "cell_type": "markdown",
      "source": "Next, let's try to enhance the map by adding the launch outcomes for each site, and see which sites have high success rates.\nRecall that data frame spacex_df has detailed launch records, and the `class` column indicates if this launch was successful or not\n",
      "metadata": {}
    },
    {
      "cell_type": "code",
      "source": "spacex_df.tail(10)",
      "metadata": {
        "trusted": true
      },
      "outputs": [
        {
          "execution_count": 8,
          "output_type": "execute_result",
          "data": {
            "text/plain": "     Launch Site        Lat       Long  class\n46    KSC LC-39A  28.573255 -80.646895      1\n47    KSC LC-39A  28.573255 -80.646895      1\n48    KSC LC-39A  28.573255 -80.646895      1\n49  CCAFS SLC-40  28.563197 -80.576820      1\n50  CCAFS SLC-40  28.563197 -80.576820      1\n51  CCAFS SLC-40  28.563197 -80.576820      0\n52  CCAFS SLC-40  28.563197 -80.576820      0\n53  CCAFS SLC-40  28.563197 -80.576820      0\n54  CCAFS SLC-40  28.563197 -80.576820      1\n55  CCAFS SLC-40  28.563197 -80.576820      0",
            "text/html": "<div>\n<style scoped>\n    .dataframe tbody tr th:only-of-type {\n        vertical-align: middle;\n    }\n\n    .dataframe tbody tr th {\n        vertical-align: top;\n    }\n\n    .dataframe thead th {\n        text-align: right;\n    }\n</style>\n<table border=\"1\" class=\"dataframe\">\n  <thead>\n    <tr style=\"text-align: right;\">\n      <th></th>\n      <th>Launch Site</th>\n      <th>Lat</th>\n      <th>Long</th>\n      <th>class</th>\n    </tr>\n  </thead>\n  <tbody>\n    <tr>\n      <th>46</th>\n      <td>KSC LC-39A</td>\n      <td>28.573255</td>\n      <td>-80.646895</td>\n      <td>1</td>\n    </tr>\n    <tr>\n      <th>47</th>\n      <td>KSC LC-39A</td>\n      <td>28.573255</td>\n      <td>-80.646895</td>\n      <td>1</td>\n    </tr>\n    <tr>\n      <th>48</th>\n      <td>KSC LC-39A</td>\n      <td>28.573255</td>\n      <td>-80.646895</td>\n      <td>1</td>\n    </tr>\n    <tr>\n      <th>49</th>\n      <td>CCAFS SLC-40</td>\n      <td>28.563197</td>\n      <td>-80.576820</td>\n      <td>1</td>\n    </tr>\n    <tr>\n      <th>50</th>\n      <td>CCAFS SLC-40</td>\n      <td>28.563197</td>\n      <td>-80.576820</td>\n      <td>1</td>\n    </tr>\n    <tr>\n      <th>51</th>\n      <td>CCAFS SLC-40</td>\n      <td>28.563197</td>\n      <td>-80.576820</td>\n      <td>0</td>\n    </tr>\n    <tr>\n      <th>52</th>\n      <td>CCAFS SLC-40</td>\n      <td>28.563197</td>\n      <td>-80.576820</td>\n      <td>0</td>\n    </tr>\n    <tr>\n      <th>53</th>\n      <td>CCAFS SLC-40</td>\n      <td>28.563197</td>\n      <td>-80.576820</td>\n      <td>0</td>\n    </tr>\n    <tr>\n      <th>54</th>\n      <td>CCAFS SLC-40</td>\n      <td>28.563197</td>\n      <td>-80.576820</td>\n      <td>1</td>\n    </tr>\n    <tr>\n      <th>55</th>\n      <td>CCAFS SLC-40</td>\n      <td>28.563197</td>\n      <td>-80.576820</td>\n      <td>0</td>\n    </tr>\n  </tbody>\n</table>\n</div>"
          },
          "metadata": {}
        }
      ],
      "execution_count": 8
    },
    {
      "cell_type": "markdown",
      "source": "Next, let's create markers for all launch records.\nIf a launch was successful `(class=1)`, then we use a green marker and if a launch was failed, we use a red marker `(class=0)`\n",
      "metadata": {}
    },
    {
      "cell_type": "markdown",
      "source": "Note that a launch only happens in one of the four launch sites, which means many launch records will have the exact same coordinate. Marker clusters can be a good way to simplify a map containing many markers having the same coordinate.\n",
      "metadata": {}
    },
    {
      "cell_type": "markdown",
      "source": "Let's first create a `MarkerCluster` object\n",
      "metadata": {}
    },
    {
      "cell_type": "code",
      "source": "marker_cluster = MarkerCluster()\n",
      "metadata": {
        "trusted": true
      },
      "outputs": [],
      "execution_count": 9
    },
    {
      "cell_type": "markdown",
      "source": "*TODO:* Create a new column in `spacex_df` dataframe called `marker_color` to store the marker colors based on the `class` value\n",
      "metadata": {}
    },
    {
      "cell_type": "code",
      "source": "\n# Apply a function to check the value of `class` column\n# If class=1, marker_color value will be green\n# If class=0, marker_color value will be red\nspacex_df['marker_color'] = list(map(lambda x: 'green' if x==1 else 'red', spacex_df['class']))\nspacex_df.tail(10)",
      "metadata": {
        "trusted": true
      },
      "outputs": [
        {
          "execution_count": 10,
          "output_type": "execute_result",
          "data": {
            "text/plain": "     Launch Site        Lat       Long  class marker_color\n46    KSC LC-39A  28.573255 -80.646895      1        green\n47    KSC LC-39A  28.573255 -80.646895      1        green\n48    KSC LC-39A  28.573255 -80.646895      1        green\n49  CCAFS SLC-40  28.563197 -80.576820      1        green\n50  CCAFS SLC-40  28.563197 -80.576820      1        green\n51  CCAFS SLC-40  28.563197 -80.576820      0          red\n52  CCAFS SLC-40  28.563197 -80.576820      0          red\n53  CCAFS SLC-40  28.563197 -80.576820      0          red\n54  CCAFS SLC-40  28.563197 -80.576820      1        green\n55  CCAFS SLC-40  28.563197 -80.576820      0          red",
            "text/html": "<div>\n<style scoped>\n    .dataframe tbody tr th:only-of-type {\n        vertical-align: middle;\n    }\n\n    .dataframe tbody tr th {\n        vertical-align: top;\n    }\n\n    .dataframe thead th {\n        text-align: right;\n    }\n</style>\n<table border=\"1\" class=\"dataframe\">\n  <thead>\n    <tr style=\"text-align: right;\">\n      <th></th>\n      <th>Launch Site</th>\n      <th>Lat</th>\n      <th>Long</th>\n      <th>class</th>\n      <th>marker_color</th>\n    </tr>\n  </thead>\n  <tbody>\n    <tr>\n      <th>46</th>\n      <td>KSC LC-39A</td>\n      <td>28.573255</td>\n      <td>-80.646895</td>\n      <td>1</td>\n      <td>green</td>\n    </tr>\n    <tr>\n      <th>47</th>\n      <td>KSC LC-39A</td>\n      <td>28.573255</td>\n      <td>-80.646895</td>\n      <td>1</td>\n      <td>green</td>\n    </tr>\n    <tr>\n      <th>48</th>\n      <td>KSC LC-39A</td>\n      <td>28.573255</td>\n      <td>-80.646895</td>\n      <td>1</td>\n      <td>green</td>\n    </tr>\n    <tr>\n      <th>49</th>\n      <td>CCAFS SLC-40</td>\n      <td>28.563197</td>\n      <td>-80.576820</td>\n      <td>1</td>\n      <td>green</td>\n    </tr>\n    <tr>\n      <th>50</th>\n      <td>CCAFS SLC-40</td>\n      <td>28.563197</td>\n      <td>-80.576820</td>\n      <td>1</td>\n      <td>green</td>\n    </tr>\n    <tr>\n      <th>51</th>\n      <td>CCAFS SLC-40</td>\n      <td>28.563197</td>\n      <td>-80.576820</td>\n      <td>0</td>\n      <td>red</td>\n    </tr>\n    <tr>\n      <th>52</th>\n      <td>CCAFS SLC-40</td>\n      <td>28.563197</td>\n      <td>-80.576820</td>\n      <td>0</td>\n      <td>red</td>\n    </tr>\n    <tr>\n      <th>53</th>\n      <td>CCAFS SLC-40</td>\n      <td>28.563197</td>\n      <td>-80.576820</td>\n      <td>0</td>\n      <td>red</td>\n    </tr>\n    <tr>\n      <th>54</th>\n      <td>CCAFS SLC-40</td>\n      <td>28.563197</td>\n      <td>-80.576820</td>\n      <td>1</td>\n      <td>green</td>\n    </tr>\n    <tr>\n      <th>55</th>\n      <td>CCAFS SLC-40</td>\n      <td>28.563197</td>\n      <td>-80.576820</td>\n      <td>0</td>\n      <td>red</td>\n    </tr>\n  </tbody>\n</table>\n</div>"
          },
          "metadata": {}
        }
      ],
      "execution_count": 10
    },
    {
      "cell_type": "markdown",
      "source": "*TODO:* For each launch result in `spacex_df` data frame, add a `folium.Marker` to `marker_cluster`\n",
      "metadata": {}
    },
    {
      "cell_type": "code",
      "source": "# Add the Marker cluster to the site map\nsite_map.add_child(marker_cluster)\n\n# for each row in spacex_df data frame\n# create a Marker object with its coordinate\n# and customize the Marker's icon property to indicate if this launch was successed or failed, e.g., icon=folium.Icon(color='white', icon_color=row['marker_color']\nfor site_lat, site_long, marker_color in zip(spacex_df['Lat'], spacex_df['Long'], spacex_df['marker_color']):\n    site_coordinate = [site_lat, site_long]\n    marker = folium.map.Marker(\n        site_coordinate,\n        # Create an icon as a text label\n        icon=folium.Icon(color='white', \n                         icon_color=marker_color)\n    )\n    marker.add_to(marker_cluster)\n\nsite_map",
      "metadata": {
        "trusted": true
      },
      "outputs": [
        {
          "execution_count": 11,
          "output_type": "execute_result",
          "data": {
            "text/plain": "<folium.folium.Map at 0x3b5e100>",
            "text/html": "<div style=\"width:100%;\"><div style=\"position:relative;width:100%;height:0;padding-bottom:60%;\"><span style=\"color:#565656\">Make this Notebook Trusted to load map: File -> Trust Notebook</span><iframe srcdoc=\"&lt;!DOCTYPE html&gt;\n&lt;html&gt;\n&lt;head&gt;\n    \n    &lt;meta http-equiv=&quot;content-type&quot; content=&quot;text/html; charset=UTF-8&quot; /&gt;\n    \n        &lt;script&gt;\n            L_NO_TOUCH = false;\n            L_DISABLE_3D = false;\n        &lt;/script&gt;\n    \n    &lt;style&gt;html, body {width: 100%;height: 100%;margin: 0;padding: 0;}&lt;/style&gt;\n    &lt;style&gt;#map {position:absolute;top:0;bottom:0;right:0;left:0;}&lt;/style&gt;\n    &lt;script src=&quot;https://cdn.jsdelivr.net/npm/leaflet@1.9.3/dist/leaflet.js&quot;&gt;&lt;/script&gt;\n    &lt;script src=&quot;https://code.jquery.com/jquery-3.7.1.min.js&quot;&gt;&lt;/script&gt;\n    &lt;script src=&quot;https://cdn.jsdelivr.net/npm/bootstrap@5.2.2/dist/js/bootstrap.bundle.min.js&quot;&gt;&lt;/script&gt;\n    &lt;script src=&quot;https://cdnjs.cloudflare.com/ajax/libs/Leaflet.awesome-markers/2.0.2/leaflet.awesome-markers.js&quot;&gt;&lt;/script&gt;\n    &lt;link rel=&quot;stylesheet&quot; href=&quot;https://cdn.jsdelivr.net/npm/leaflet@1.9.3/dist/leaflet.css&quot;/&gt;\n    &lt;link rel=&quot;stylesheet&quot; href=&quot;https://cdn.jsdelivr.net/npm/bootstrap@5.2.2/dist/css/bootstrap.min.css&quot;/&gt;\n    &lt;link rel=&quot;stylesheet&quot; href=&quot;https://netdna.bootstrapcdn.com/bootstrap/3.0.0/css/bootstrap-glyphicons.css&quot;/&gt;\n    &lt;link rel=&quot;stylesheet&quot; href=&quot;https://cdn.jsdelivr.net/npm/@fortawesome/fontawesome-free@6.2.0/css/all.min.css&quot;/&gt;\n    &lt;link rel=&quot;stylesheet&quot; href=&quot;https://cdnjs.cloudflare.com/ajax/libs/Leaflet.awesome-markers/2.0.2/leaflet.awesome-markers.css&quot;/&gt;\n    &lt;link rel=&quot;stylesheet&quot; href=&quot;https://cdn.jsdelivr.net/gh/python-visualization/folium/folium/templates/leaflet.awesome.rotate.min.css&quot;/&gt;\n    \n            &lt;meta name=&quot;viewport&quot; content=&quot;width=device-width,\n                initial-scale=1.0, maximum-scale=1.0, user-scalable=no&quot; /&gt;\n            &lt;style&gt;\n                #map_2d6d2b965167c3f87b9a4a7fc0133119 {\n                    position: relative;\n                    width: 100.0%;\n                    height: 100.0%;\n                    left: 0.0%;\n                    top: 0.0%;\n                }\n                .leaflet-container { font-size: 1rem; }\n            &lt;/style&gt;\n        \n    &lt;script src=&quot;https://cdnjs.cloudflare.com/ajax/libs/leaflet.markercluster/1.1.0/leaflet.markercluster.js&quot;&gt;&lt;/script&gt;\n    &lt;link rel=&quot;stylesheet&quot; href=&quot;https://cdnjs.cloudflare.com/ajax/libs/leaflet.markercluster/1.1.0/MarkerCluster.css&quot;/&gt;\n    &lt;link rel=&quot;stylesheet&quot; href=&quot;https://cdnjs.cloudflare.com/ajax/libs/leaflet.markercluster/1.1.0/MarkerCluster.Default.css&quot;/&gt;\n&lt;/head&gt;\n&lt;body&gt;\n    \n    \n            &lt;div class=&quot;folium-map&quot; id=&quot;map_2d6d2b965167c3f87b9a4a7fc0133119&quot; &gt;&lt;/div&gt;\n        \n&lt;/body&gt;\n&lt;script&gt;\n    \n    \n            var map_2d6d2b965167c3f87b9a4a7fc0133119 = L.map(\n                &quot;map_2d6d2b965167c3f87b9a4a7fc0133119&quot;,\n                {\n                    center: [29.559684888503615, -95.0830971930759],\n                    crs: L.CRS.EPSG3857,\n                    ...{\n  &quot;maxBounds&quot;: null,\n  &quot;zoom&quot;: 10,\n  &quot;zoomControl&quot;: true,\n  &quot;preferCanvas&quot;: false,\n}\n\n                }\n            );\n\n            \n\n        \n    \n            var tile_layer_34d80b51e9b5bfa9783a855ae0f0e8dc = L.tileLayer(\n                &quot;https://tile.openstreetmap.org/{z}/{x}/{y}.png&quot;,\n                {\n  &quot;minZoom&quot;: 0,\n  &quot;maxZoom&quot;: 19,\n  &quot;maxNativeZoom&quot;: 19,\n  &quot;noWrap&quot;: false,\n  &quot;attribution&quot;: &quot;\\u0026copy; \\u003ca href=\\&quot;https://www.openstreetmap.org/copyright\\&quot;\\u003eOpenStreetMap\\u003c/a\\u003e contributors&quot;,\n  &quot;subdomains&quot;: &quot;abc&quot;,\n  &quot;detectRetina&quot;: false,\n  &quot;tms&quot;: false,\n  &quot;opacity&quot;: 1,\n}\n\n            );\n        \n    \n            tile_layer_34d80b51e9b5bfa9783a855ae0f0e8dc.addTo(map_2d6d2b965167c3f87b9a4a7fc0133119);\n        \n    \n            var circle_e0afc658e0b2d235599cbd57d59a8e85 = L.circle(\n                [29.559684888503615, -95.0830971930759],\n                {&quot;bubblingMouseEvents&quot;: true, &quot;color&quot;: &quot;#d35400&quot;, &quot;dashArray&quot;: null, &quot;dashOffset&quot;: null, &quot;fill&quot;: true, &quot;fillColor&quot;: &quot;#d35400&quot;, &quot;fillOpacity&quot;: 0.2, &quot;fillRule&quot;: &quot;evenodd&quot;, &quot;lineCap&quot;: &quot;round&quot;, &quot;lineJoin&quot;: &quot;round&quot;, &quot;opacity&quot;: 1.0, &quot;radius&quot;: 1000, &quot;stroke&quot;: true, &quot;weight&quot;: 3}\n            ).addTo(map_2d6d2b965167c3f87b9a4a7fc0133119);\n        \n    \n        var popup_cceb770033e814b1c98c8cd0d5fabdc9 = L.popup({\n  &quot;maxWidth&quot;: &quot;100%&quot;,\n  &quot;autoClose&quot;: null,\n  &quot;closeOnClick&quot;: null,\n});\n\n        \n            \n                var html_ae4dfbd29965afd63d286e597b1e7391 = $(`&lt;div id=&quot;html_ae4dfbd29965afd63d286e597b1e7391&quot; style=&quot;width: 100.0%; height: 100.0%;&quot;&gt;NASA Johnson Space Center&lt;/div&gt;`)[0];\n                popup_cceb770033e814b1c98c8cd0d5fabdc9.setContent(html_ae4dfbd29965afd63d286e597b1e7391);\n            \n        \n\n        circle_e0afc658e0b2d235599cbd57d59a8e85.bindPopup(popup_cceb770033e814b1c98c8cd0d5fabdc9)\n        ;\n\n        \n    \n    \n            var marker_befbc7a75d9f643c8ba2bf76c4ba81ac = L.marker(\n                [29.559684888503615, -95.0830971930759],\n                {\n  &quot;draggable&quot;: null,\n  &quot;autoPan&quot;: null,\n}\n            ).addTo(map_2d6d2b965167c3f87b9a4a7fc0133119);\n        \n    \n            var div_icon_698be4709104a80e4f4eb846c5cde00d = L.divIcon({\n  &quot;html&quot;: &quot;\\u003cdiv style=\\&quot;font-size: 12; color:#d35400;\\&quot;\\u003e\\u003cb\\u003eNASA JSC\\u003c/b\\u003e\\u003c/div\\u003e&quot;,\n  &quot;iconSize&quot;: [20, 20],\n  &quot;iconAnchor&quot;: [0, 0],\n  &quot;popupAnchor&quot;: null,\n  &quot;className&quot;: &quot;empty&quot;,\n});\n            marker_befbc7a75d9f643c8ba2bf76c4ba81ac.setIcon(div_icon_698be4709104a80e4f4eb846c5cde00d);\n        \n    \n            tile_layer_34d80b51e9b5bfa9783a855ae0f0e8dc.addTo(map_2d6d2b965167c3f87b9a4a7fc0133119);\n        \n    \n            var marker_cluster_8d357b8e30c7f803ffbe28e5d6934283 = L.markerClusterGroup(\n                {\n}\n            );\n        \n    \n            var marker_2495b2c85b2096f54fea272ac1d92f03 = L.marker(\n                [28.56230197, -80.57735648],\n                {\n  &quot;draggable&quot;: null,\n  &quot;autoPan&quot;: null,\n}\n            ).addTo(marker_cluster_8d357b8e30c7f803ffbe28e5d6934283);\n        \n    \n            var icon_9c3f89ff4a53180eae930279f5e21e44 = L.AwesomeMarkers.icon(\n                {\n  &quot;markerColor&quot;: &quot;white&quot;,\n  &quot;iconColor&quot;: &quot;red&quot;,\n  &quot;icon&quot;: &quot;info-sign&quot;,\n  &quot;prefix&quot;: &quot;glyphicon&quot;,\n  &quot;extraClasses&quot;: &quot;fa-rotate-0&quot;,\n}\n            );\n            marker_2495b2c85b2096f54fea272ac1d92f03.setIcon(icon_9c3f89ff4a53180eae930279f5e21e44);\n        \n    \n            var marker_a37e54ed7c50ae782358482e5c61a549 = L.marker(\n                [28.56230197, -80.57735648],\n                {\n  &quot;draggable&quot;: null,\n  &quot;autoPan&quot;: null,\n}\n            ).addTo(marker_cluster_8d357b8e30c7f803ffbe28e5d6934283);\n        \n    \n            var icon_364a997cec3b007b77177563c229fe6c = L.AwesomeMarkers.icon(\n                {\n  &quot;markerColor&quot;: &quot;white&quot;,\n  &quot;iconColor&quot;: &quot;red&quot;,\n  &quot;icon&quot;: &quot;info-sign&quot;,\n  &quot;prefix&quot;: &quot;glyphicon&quot;,\n  &quot;extraClasses&quot;: &quot;fa-rotate-0&quot;,\n}\n            );\n            marker_a37e54ed7c50ae782358482e5c61a549.setIcon(icon_364a997cec3b007b77177563c229fe6c);\n        \n    \n            var marker_f06d80c4c389d02bccf9d33264928c90 = L.marker(\n                [28.56230197, -80.57735648],\n                {\n  &quot;draggable&quot;: null,\n  &quot;autoPan&quot;: null,\n}\n            ).addTo(marker_cluster_8d357b8e30c7f803ffbe28e5d6934283);\n        \n    \n            var icon_7c9a11eb35e2004ac60b71da7c5c8d81 = L.AwesomeMarkers.icon(\n                {\n  &quot;markerColor&quot;: &quot;white&quot;,\n  &quot;iconColor&quot;: &quot;red&quot;,\n  &quot;icon&quot;: &quot;info-sign&quot;,\n  &quot;prefix&quot;: &quot;glyphicon&quot;,\n  &quot;extraClasses&quot;: &quot;fa-rotate-0&quot;,\n}\n            );\n            marker_f06d80c4c389d02bccf9d33264928c90.setIcon(icon_7c9a11eb35e2004ac60b71da7c5c8d81);\n        \n    \n            var marker_24bb2ae946f1379c3f4dde2a03fffbf5 = L.marker(\n                [28.56230197, -80.57735648],\n                {\n  &quot;draggable&quot;: null,\n  &quot;autoPan&quot;: null,\n}\n            ).addTo(marker_cluster_8d357b8e30c7f803ffbe28e5d6934283);\n        \n    \n            var icon_ed334890acc71b4434ace979a69f16d4 = L.AwesomeMarkers.icon(\n                {\n  &quot;markerColor&quot;: &quot;white&quot;,\n  &quot;iconColor&quot;: &quot;red&quot;,\n  &quot;icon&quot;: &quot;info-sign&quot;,\n  &quot;prefix&quot;: &quot;glyphicon&quot;,\n  &quot;extraClasses&quot;: &quot;fa-rotate-0&quot;,\n}\n            );\n            marker_24bb2ae946f1379c3f4dde2a03fffbf5.setIcon(icon_ed334890acc71b4434ace979a69f16d4);\n        \n    \n            var marker_eb473014938fd0d0ae9bad68428ddf60 = L.marker(\n                [28.56230197, -80.57735648],\n                {\n  &quot;draggable&quot;: null,\n  &quot;autoPan&quot;: null,\n}\n            ).addTo(marker_cluster_8d357b8e30c7f803ffbe28e5d6934283);\n        \n    \n            var icon_f90df48594801a7b55d702c5b9ac4105 = L.AwesomeMarkers.icon(\n                {\n  &quot;markerColor&quot;: &quot;white&quot;,\n  &quot;iconColor&quot;: &quot;red&quot;,\n  &quot;icon&quot;: &quot;info-sign&quot;,\n  &quot;prefix&quot;: &quot;glyphicon&quot;,\n  &quot;extraClasses&quot;: &quot;fa-rotate-0&quot;,\n}\n            );\n            marker_eb473014938fd0d0ae9bad68428ddf60.setIcon(icon_f90df48594801a7b55d702c5b9ac4105);\n        \n    \n            var marker_0cba2e0d85df7603c855261ffb247e5c = L.marker(\n                [28.56230197, -80.57735648],\n                {\n  &quot;draggable&quot;: null,\n  &quot;autoPan&quot;: null,\n}\n            ).addTo(marker_cluster_8d357b8e30c7f803ffbe28e5d6934283);\n        \n    \n            var icon_abc48544095616eea132ca1deca84754 = L.AwesomeMarkers.icon(\n                {\n  &quot;markerColor&quot;: &quot;white&quot;,\n  &quot;iconColor&quot;: &quot;red&quot;,\n  &quot;icon&quot;: &quot;info-sign&quot;,\n  &quot;prefix&quot;: &quot;glyphicon&quot;,\n  &quot;extraClasses&quot;: &quot;fa-rotate-0&quot;,\n}\n            );\n            marker_0cba2e0d85df7603c855261ffb247e5c.setIcon(icon_abc48544095616eea132ca1deca84754);\n        \n    \n            var marker_ec802fe5d92414198bfb2404e7f21fd0 = L.marker(\n                [28.56230197, -80.57735648],\n                {\n  &quot;draggable&quot;: null,\n  &quot;autoPan&quot;: null,\n}\n            ).addTo(marker_cluster_8d357b8e30c7f803ffbe28e5d6934283);\n        \n    \n            var icon_8d3f31eb47e343df3526154a4362dff1 = L.AwesomeMarkers.icon(\n                {\n  &quot;markerColor&quot;: &quot;white&quot;,\n  &quot;iconColor&quot;: &quot;red&quot;,\n  &quot;icon&quot;: &quot;info-sign&quot;,\n  &quot;prefix&quot;: &quot;glyphicon&quot;,\n  &quot;extraClasses&quot;: &quot;fa-rotate-0&quot;,\n}\n            );\n            marker_ec802fe5d92414198bfb2404e7f21fd0.setIcon(icon_8d3f31eb47e343df3526154a4362dff1);\n        \n    \n            var marker_a8d34871330b368d888541b2487911cc = L.marker(\n                [28.56230197, -80.57735648],\n                {\n  &quot;draggable&quot;: null,\n  &quot;autoPan&quot;: null,\n}\n            ).addTo(marker_cluster_8d357b8e30c7f803ffbe28e5d6934283);\n        \n    \n            var icon_157a4c1d57b400668e385c814d64041e = L.AwesomeMarkers.icon(\n                {\n  &quot;markerColor&quot;: &quot;white&quot;,\n  &quot;iconColor&quot;: &quot;red&quot;,\n  &quot;icon&quot;: &quot;info-sign&quot;,\n  &quot;prefix&quot;: &quot;glyphicon&quot;,\n  &quot;extraClasses&quot;: &quot;fa-rotate-0&quot;,\n}\n            );\n            marker_a8d34871330b368d888541b2487911cc.setIcon(icon_157a4c1d57b400668e385c814d64041e);\n        \n    \n            var marker_8888c3b79809cb67150546d32d7649d5 = L.marker(\n                [28.56230197, -80.57735648],\n                {\n  &quot;draggable&quot;: null,\n  &quot;autoPan&quot;: null,\n}\n            ).addTo(marker_cluster_8d357b8e30c7f803ffbe28e5d6934283);\n        \n    \n            var icon_e4b6bc845fa655ca248f474a887bd7c6 = L.AwesomeMarkers.icon(\n                {\n  &quot;markerColor&quot;: &quot;white&quot;,\n  &quot;iconColor&quot;: &quot;red&quot;,\n  &quot;icon&quot;: &quot;info-sign&quot;,\n  &quot;prefix&quot;: &quot;glyphicon&quot;,\n  &quot;extraClasses&quot;: &quot;fa-rotate-0&quot;,\n}\n            );\n            marker_8888c3b79809cb67150546d32d7649d5.setIcon(icon_e4b6bc845fa655ca248f474a887bd7c6);\n        \n    \n            var marker_3ebd50dbc3cf39ca2b99cd60bd2eae21 = L.marker(\n                [28.56230197, -80.57735648],\n                {\n  &quot;draggable&quot;: null,\n  &quot;autoPan&quot;: null,\n}\n            ).addTo(marker_cluster_8d357b8e30c7f803ffbe28e5d6934283);\n        \n    \n            var icon_21a0928c865af7cd1e6d38e920b56a16 = L.AwesomeMarkers.icon(\n                {\n  &quot;markerColor&quot;: &quot;white&quot;,\n  &quot;iconColor&quot;: &quot;red&quot;,\n  &quot;icon&quot;: &quot;info-sign&quot;,\n  &quot;prefix&quot;: &quot;glyphicon&quot;,\n  &quot;extraClasses&quot;: &quot;fa-rotate-0&quot;,\n}\n            );\n            marker_3ebd50dbc3cf39ca2b99cd60bd2eae21.setIcon(icon_21a0928c865af7cd1e6d38e920b56a16);\n        \n    \n            var marker_f77479c60369ce09dcc878bb2de8498c = L.marker(\n                [28.56230197, -80.57735648],\n                {\n  &quot;draggable&quot;: null,\n  &quot;autoPan&quot;: null,\n}\n            ).addTo(marker_cluster_8d357b8e30c7f803ffbe28e5d6934283);\n        \n    \n            var icon_2c1a1a5b7215122e9cb5e76a43413db4 = L.AwesomeMarkers.icon(\n                {\n  &quot;markerColor&quot;: &quot;white&quot;,\n  &quot;iconColor&quot;: &quot;red&quot;,\n  &quot;icon&quot;: &quot;info-sign&quot;,\n  &quot;prefix&quot;: &quot;glyphicon&quot;,\n  &quot;extraClasses&quot;: &quot;fa-rotate-0&quot;,\n}\n            );\n            marker_f77479c60369ce09dcc878bb2de8498c.setIcon(icon_2c1a1a5b7215122e9cb5e76a43413db4);\n        \n    \n            var marker_e9d2225911e0c3164791539173597c64 = L.marker(\n                [28.56230197, -80.57735648],\n                {\n  &quot;draggable&quot;: null,\n  &quot;autoPan&quot;: null,\n}\n            ).addTo(marker_cluster_8d357b8e30c7f803ffbe28e5d6934283);\n        \n    \n            var icon_91cc67287ab15217d2bf2d2766452569 = L.AwesomeMarkers.icon(\n                {\n  &quot;markerColor&quot;: &quot;white&quot;,\n  &quot;iconColor&quot;: &quot;red&quot;,\n  &quot;icon&quot;: &quot;info-sign&quot;,\n  &quot;prefix&quot;: &quot;glyphicon&quot;,\n  &quot;extraClasses&quot;: &quot;fa-rotate-0&quot;,\n}\n            );\n            marker_e9d2225911e0c3164791539173597c64.setIcon(icon_91cc67287ab15217d2bf2d2766452569);\n        \n    \n            var marker_1875486756cb1eae9017ddffdd314a5d = L.marker(\n                [28.56230197, -80.57735648],\n                {\n  &quot;draggable&quot;: null,\n  &quot;autoPan&quot;: null,\n}\n            ).addTo(marker_cluster_8d357b8e30c7f803ffbe28e5d6934283);\n        \n    \n            var icon_0cfc373585779f6a2013bf1e7fd375be = L.AwesomeMarkers.icon(\n                {\n  &quot;markerColor&quot;: &quot;white&quot;,\n  &quot;iconColor&quot;: &quot;red&quot;,\n  &quot;icon&quot;: &quot;info-sign&quot;,\n  &quot;prefix&quot;: &quot;glyphicon&quot;,\n  &quot;extraClasses&quot;: &quot;fa-rotate-0&quot;,\n}\n            );\n            marker_1875486756cb1eae9017ddffdd314a5d.setIcon(icon_0cfc373585779f6a2013bf1e7fd375be);\n        \n    \n            var marker_df665df1bf7f8a3baf1945672c1f3545 = L.marker(\n                [28.56230197, -80.57735648],\n                {\n  &quot;draggable&quot;: null,\n  &quot;autoPan&quot;: null,\n}\n            ).addTo(marker_cluster_8d357b8e30c7f803ffbe28e5d6934283);\n        \n    \n            var icon_0d93a4e0234ef7dea7e92d70ace05923 = L.AwesomeMarkers.icon(\n                {\n  &quot;markerColor&quot;: &quot;white&quot;,\n  &quot;iconColor&quot;: &quot;red&quot;,\n  &quot;icon&quot;: &quot;info-sign&quot;,\n  &quot;prefix&quot;: &quot;glyphicon&quot;,\n  &quot;extraClasses&quot;: &quot;fa-rotate-0&quot;,\n}\n            );\n            marker_df665df1bf7f8a3baf1945672c1f3545.setIcon(icon_0d93a4e0234ef7dea7e92d70ace05923);\n        \n    \n            var marker_967fd72c6adae7fd10d5f8ff22ad916f = L.marker(\n                [28.56230197, -80.57735648],\n                {\n  &quot;draggable&quot;: null,\n  &quot;autoPan&quot;: null,\n}\n            ).addTo(marker_cluster_8d357b8e30c7f803ffbe28e5d6934283);\n        \n    \n            var icon_d1063f26a5cf0453cde903f84ade5774 = L.AwesomeMarkers.icon(\n                {\n  &quot;markerColor&quot;: &quot;white&quot;,\n  &quot;iconColor&quot;: &quot;red&quot;,\n  &quot;icon&quot;: &quot;info-sign&quot;,\n  &quot;prefix&quot;: &quot;glyphicon&quot;,\n  &quot;extraClasses&quot;: &quot;fa-rotate-0&quot;,\n}\n            );\n            marker_967fd72c6adae7fd10d5f8ff22ad916f.setIcon(icon_d1063f26a5cf0453cde903f84ade5774);\n        \n    \n            var marker_df2b0f6d2b16bb477a6a0df27bad4a5d = L.marker(\n                [28.56230197, -80.57735648],\n                {\n  &quot;draggable&quot;: null,\n  &quot;autoPan&quot;: null,\n}\n            ).addTo(marker_cluster_8d357b8e30c7f803ffbe28e5d6934283);\n        \n    \n            var icon_eedbacfaf934af0e2cc65edfcec56ff1 = L.AwesomeMarkers.icon(\n                {\n  &quot;markerColor&quot;: &quot;white&quot;,\n  &quot;iconColor&quot;: &quot;red&quot;,\n  &quot;icon&quot;: &quot;info-sign&quot;,\n  &quot;prefix&quot;: &quot;glyphicon&quot;,\n  &quot;extraClasses&quot;: &quot;fa-rotate-0&quot;,\n}\n            );\n            marker_df2b0f6d2b16bb477a6a0df27bad4a5d.setIcon(icon_eedbacfaf934af0e2cc65edfcec56ff1);\n        \n    \n            var marker_2b1b10831783151eb2370f3ad9e8cbae = L.marker(\n                [28.56230197, -80.57735648],\n                {\n  &quot;draggable&quot;: null,\n  &quot;autoPan&quot;: null,\n}\n            ).addTo(marker_cluster_8d357b8e30c7f803ffbe28e5d6934283);\n        \n    \n            var icon_72fb9a807bd1f9ede3c14de723a25655 = L.AwesomeMarkers.icon(\n                {\n  &quot;markerColor&quot;: &quot;white&quot;,\n  &quot;iconColor&quot;: &quot;red&quot;,\n  &quot;icon&quot;: &quot;info-sign&quot;,\n  &quot;prefix&quot;: &quot;glyphicon&quot;,\n  &quot;extraClasses&quot;: &quot;fa-rotate-0&quot;,\n}\n            );\n            marker_2b1b10831783151eb2370f3ad9e8cbae.setIcon(icon_72fb9a807bd1f9ede3c14de723a25655);\n        \n    \n            var marker_cdf288225bd4e88c0aa9a798bb97ccd1 = L.marker(\n                [28.56230197, -80.57735648],\n                {\n  &quot;draggable&quot;: null,\n  &quot;autoPan&quot;: null,\n}\n            ).addTo(marker_cluster_8d357b8e30c7f803ffbe28e5d6934283);\n        \n    \n            var icon_703ea43033438eea5eb04537d3de6e85 = L.AwesomeMarkers.icon(\n                {\n  &quot;markerColor&quot;: &quot;white&quot;,\n  &quot;iconColor&quot;: &quot;green&quot;,\n  &quot;icon&quot;: &quot;info-sign&quot;,\n  &quot;prefix&quot;: &quot;glyphicon&quot;,\n  &quot;extraClasses&quot;: &quot;fa-rotate-0&quot;,\n}\n            );\n            marker_cdf288225bd4e88c0aa9a798bb97ccd1.setIcon(icon_703ea43033438eea5eb04537d3de6e85);\n        \n    \n            var marker_4c91e51112385125deb0086de4fd862c = L.marker(\n                [28.56230197, -80.57735648],\n                {\n  &quot;draggable&quot;: null,\n  &quot;autoPan&quot;: null,\n}\n            ).addTo(marker_cluster_8d357b8e30c7f803ffbe28e5d6934283);\n        \n    \n            var icon_a36f2516297f159925209f4ce9d6c347 = L.AwesomeMarkers.icon(\n                {\n  &quot;markerColor&quot;: &quot;white&quot;,\n  &quot;iconColor&quot;: &quot;green&quot;,\n  &quot;icon&quot;: &quot;info-sign&quot;,\n  &quot;prefix&quot;: &quot;glyphicon&quot;,\n  &quot;extraClasses&quot;: &quot;fa-rotate-0&quot;,\n}\n            );\n            marker_4c91e51112385125deb0086de4fd862c.setIcon(icon_a36f2516297f159925209f4ce9d6c347);\n        \n    \n            var marker_a5360b7dc6da362374a1e3bf50f74774 = L.marker(\n                [28.56230197, -80.57735648],\n                {\n  &quot;draggable&quot;: null,\n  &quot;autoPan&quot;: null,\n}\n            ).addTo(marker_cluster_8d357b8e30c7f803ffbe28e5d6934283);\n        \n    \n            var icon_da33ba427819056f4cf0c9b11b627340 = L.AwesomeMarkers.icon(\n                {\n  &quot;markerColor&quot;: &quot;white&quot;,\n  &quot;iconColor&quot;: &quot;red&quot;,\n  &quot;icon&quot;: &quot;info-sign&quot;,\n  &quot;prefix&quot;: &quot;glyphicon&quot;,\n  &quot;extraClasses&quot;: &quot;fa-rotate-0&quot;,\n}\n            );\n            marker_a5360b7dc6da362374a1e3bf50f74774.setIcon(icon_da33ba427819056f4cf0c9b11b627340);\n        \n    \n            var marker_df85d76af1144a9ac046d5c149555053 = L.marker(\n                [28.56230197, -80.57735648],\n                {\n  &quot;draggable&quot;: null,\n  &quot;autoPan&quot;: null,\n}\n            ).addTo(marker_cluster_8d357b8e30c7f803ffbe28e5d6934283);\n        \n    \n            var icon_e635a4019076aea7dcd1f998ac111739 = L.AwesomeMarkers.icon(\n                {\n  &quot;markerColor&quot;: &quot;white&quot;,\n  &quot;iconColor&quot;: &quot;green&quot;,\n  &quot;icon&quot;: &quot;info-sign&quot;,\n  &quot;prefix&quot;: &quot;glyphicon&quot;,\n  &quot;extraClasses&quot;: &quot;fa-rotate-0&quot;,\n}\n            );\n            marker_df85d76af1144a9ac046d5c149555053.setIcon(icon_e635a4019076aea7dcd1f998ac111739);\n        \n    \n            var marker_278d6d05398b9cff2d7af612ed2d0da4 = L.marker(\n                [28.56230197, -80.57735648],\n                {\n  &quot;draggable&quot;: null,\n  &quot;autoPan&quot;: null,\n}\n            ).addTo(marker_cluster_8d357b8e30c7f803ffbe28e5d6934283);\n        \n    \n            var icon_2159a9400b402245362b3808b3f7275d = L.AwesomeMarkers.icon(\n                {\n  &quot;markerColor&quot;: &quot;white&quot;,\n  &quot;iconColor&quot;: &quot;green&quot;,\n  &quot;icon&quot;: &quot;info-sign&quot;,\n  &quot;prefix&quot;: &quot;glyphicon&quot;,\n  &quot;extraClasses&quot;: &quot;fa-rotate-0&quot;,\n}\n            );\n            marker_278d6d05398b9cff2d7af612ed2d0da4.setIcon(icon_2159a9400b402245362b3808b3f7275d);\n        \n    \n            var marker_8a6f18bfeb0d36aca958f5b6fec054f4 = L.marker(\n                [28.56230197, -80.57735648],\n                {\n  &quot;draggable&quot;: null,\n  &quot;autoPan&quot;: null,\n}\n            ).addTo(marker_cluster_8d357b8e30c7f803ffbe28e5d6934283);\n        \n    \n            var icon_d0394442615f7a4d6d82f98037840895 = L.AwesomeMarkers.icon(\n                {\n  &quot;markerColor&quot;: &quot;white&quot;,\n  &quot;iconColor&quot;: &quot;green&quot;,\n  &quot;icon&quot;: &quot;info-sign&quot;,\n  &quot;prefix&quot;: &quot;glyphicon&quot;,\n  &quot;extraClasses&quot;: &quot;fa-rotate-0&quot;,\n}\n            );\n            marker_8a6f18bfeb0d36aca958f5b6fec054f4.setIcon(icon_d0394442615f7a4d6d82f98037840895);\n        \n    \n            var marker_7054c967d65705f9281db690948d9bdb = L.marker(\n                [28.56230197, -80.57735648],\n                {\n  &quot;draggable&quot;: null,\n  &quot;autoPan&quot;: null,\n}\n            ).addTo(marker_cluster_8d357b8e30c7f803ffbe28e5d6934283);\n        \n    \n            var icon_3279b9b780075889390c6119e77a2021 = L.AwesomeMarkers.icon(\n                {\n  &quot;markerColor&quot;: &quot;white&quot;,\n  &quot;iconColor&quot;: &quot;red&quot;,\n  &quot;icon&quot;: &quot;info-sign&quot;,\n  &quot;prefix&quot;: &quot;glyphicon&quot;,\n  &quot;extraClasses&quot;: &quot;fa-rotate-0&quot;,\n}\n            );\n            marker_7054c967d65705f9281db690948d9bdb.setIcon(icon_3279b9b780075889390c6119e77a2021);\n        \n    \n            var marker_24f343b7fd784c9419739aa8f7a47d6b = L.marker(\n                [28.56230197, -80.57735648],\n                {\n  &quot;draggable&quot;: null,\n  &quot;autoPan&quot;: null,\n}\n            ).addTo(marker_cluster_8d357b8e30c7f803ffbe28e5d6934283);\n        \n    \n            var icon_00836514f137906ce71e3adfa92d8542 = L.AwesomeMarkers.icon(\n                {\n  &quot;markerColor&quot;: &quot;white&quot;,\n  &quot;iconColor&quot;: &quot;green&quot;,\n  &quot;icon&quot;: &quot;info-sign&quot;,\n  &quot;prefix&quot;: &quot;glyphicon&quot;,\n  &quot;extraClasses&quot;: &quot;fa-rotate-0&quot;,\n}\n            );\n            marker_24f343b7fd784c9419739aa8f7a47d6b.setIcon(icon_00836514f137906ce71e3adfa92d8542);\n        \n    \n            var marker_2e9a26d6f602a1315a72378f49537266 = L.marker(\n                [28.56230197, -80.57735648],\n                {\n  &quot;draggable&quot;: null,\n  &quot;autoPan&quot;: null,\n}\n            ).addTo(marker_cluster_8d357b8e30c7f803ffbe28e5d6934283);\n        \n    \n            var icon_9895b5f603b5bc82c13b9673fe485dcf = L.AwesomeMarkers.icon(\n                {\n  &quot;markerColor&quot;: &quot;white&quot;,\n  &quot;iconColor&quot;: &quot;green&quot;,\n  &quot;icon&quot;: &quot;info-sign&quot;,\n  &quot;prefix&quot;: &quot;glyphicon&quot;,\n  &quot;extraClasses&quot;: &quot;fa-rotate-0&quot;,\n}\n            );\n            marker_2e9a26d6f602a1315a72378f49537266.setIcon(icon_9895b5f603b5bc82c13b9673fe485dcf);\n        \n    \n            var marker_9e365cdd19a506dc6c8a979c2fed4d09 = L.marker(\n                [34.63283416, -120.6107455],\n                {\n  &quot;draggable&quot;: null,\n  &quot;autoPan&quot;: null,\n}\n            ).addTo(marker_cluster_8d357b8e30c7f803ffbe28e5d6934283);\n        \n    \n            var icon_f25558b142e8c4b2c855555139bbbd2c = L.AwesomeMarkers.icon(\n                {\n  &quot;markerColor&quot;: &quot;white&quot;,\n  &quot;iconColor&quot;: &quot;red&quot;,\n  &quot;icon&quot;: &quot;info-sign&quot;,\n  &quot;prefix&quot;: &quot;glyphicon&quot;,\n  &quot;extraClasses&quot;: &quot;fa-rotate-0&quot;,\n}\n            );\n            marker_9e365cdd19a506dc6c8a979c2fed4d09.setIcon(icon_f25558b142e8c4b2c855555139bbbd2c);\n        \n    \n            var marker_55f7128ac4551c5b64c50b9af1e9c604 = L.marker(\n                [34.63283416, -120.6107455],\n                {\n  &quot;draggable&quot;: null,\n  &quot;autoPan&quot;: null,\n}\n            ).addTo(marker_cluster_8d357b8e30c7f803ffbe28e5d6934283);\n        \n    \n            var icon_4006274642e30e1b380b2cc8adbba4bc = L.AwesomeMarkers.icon(\n                {\n  &quot;markerColor&quot;: &quot;white&quot;,\n  &quot;iconColor&quot;: &quot;red&quot;,\n  &quot;icon&quot;: &quot;info-sign&quot;,\n  &quot;prefix&quot;: &quot;glyphicon&quot;,\n  &quot;extraClasses&quot;: &quot;fa-rotate-0&quot;,\n}\n            );\n            marker_55f7128ac4551c5b64c50b9af1e9c604.setIcon(icon_4006274642e30e1b380b2cc8adbba4bc);\n        \n    \n            var marker_f0399106b35f1fdd932dca8a72d8d026 = L.marker(\n                [34.63283416, -120.6107455],\n                {\n  &quot;draggable&quot;: null,\n  &quot;autoPan&quot;: null,\n}\n            ).addTo(marker_cluster_8d357b8e30c7f803ffbe28e5d6934283);\n        \n    \n            var icon_99c3c24d44483ef1f39c5d62e362491b = L.AwesomeMarkers.icon(\n                {\n  &quot;markerColor&quot;: &quot;white&quot;,\n  &quot;iconColor&quot;: &quot;green&quot;,\n  &quot;icon&quot;: &quot;info-sign&quot;,\n  &quot;prefix&quot;: &quot;glyphicon&quot;,\n  &quot;extraClasses&quot;: &quot;fa-rotate-0&quot;,\n}\n            );\n            marker_f0399106b35f1fdd932dca8a72d8d026.setIcon(icon_99c3c24d44483ef1f39c5d62e362491b);\n        \n    \n            var marker_d513b584b53bd6347788e223937a93c1 = L.marker(\n                [34.63283416, -120.6107455],\n                {\n  &quot;draggable&quot;: null,\n  &quot;autoPan&quot;: null,\n}\n            ).addTo(marker_cluster_8d357b8e30c7f803ffbe28e5d6934283);\n        \n    \n            var icon_c67d4d2a5a93c4744aabebf0acbea4a7 = L.AwesomeMarkers.icon(\n                {\n  &quot;markerColor&quot;: &quot;white&quot;,\n  &quot;iconColor&quot;: &quot;green&quot;,\n  &quot;icon&quot;: &quot;info-sign&quot;,\n  &quot;prefix&quot;: &quot;glyphicon&quot;,\n  &quot;extraClasses&quot;: &quot;fa-rotate-0&quot;,\n}\n            );\n            marker_d513b584b53bd6347788e223937a93c1.setIcon(icon_c67d4d2a5a93c4744aabebf0acbea4a7);\n        \n    \n            var marker_47f4de39e862cea58f1db1f16998c2d3 = L.marker(\n                [34.63283416, -120.6107455],\n                {\n  &quot;draggable&quot;: null,\n  &quot;autoPan&quot;: null,\n}\n            ).addTo(marker_cluster_8d357b8e30c7f803ffbe28e5d6934283);\n        \n    \n            var icon_9abd93e93a13f6a72c0eddd8b3c57512 = L.AwesomeMarkers.icon(\n                {\n  &quot;markerColor&quot;: &quot;white&quot;,\n  &quot;iconColor&quot;: &quot;green&quot;,\n  &quot;icon&quot;: &quot;info-sign&quot;,\n  &quot;prefix&quot;: &quot;glyphicon&quot;,\n  &quot;extraClasses&quot;: &quot;fa-rotate-0&quot;,\n}\n            );\n            marker_47f4de39e862cea58f1db1f16998c2d3.setIcon(icon_9abd93e93a13f6a72c0eddd8b3c57512);\n        \n    \n            var marker_871d1960d931712708b2f398c44822d9 = L.marker(\n                [34.63283416, -120.6107455],\n                {\n  &quot;draggable&quot;: null,\n  &quot;autoPan&quot;: null,\n}\n            ).addTo(marker_cluster_8d357b8e30c7f803ffbe28e5d6934283);\n        \n    \n            var icon_1d64045981e6fb952d49f21ff14ff74c = L.AwesomeMarkers.icon(\n                {\n  &quot;markerColor&quot;: &quot;white&quot;,\n  &quot;iconColor&quot;: &quot;green&quot;,\n  &quot;icon&quot;: &quot;info-sign&quot;,\n  &quot;prefix&quot;: &quot;glyphicon&quot;,\n  &quot;extraClasses&quot;: &quot;fa-rotate-0&quot;,\n}\n            );\n            marker_871d1960d931712708b2f398c44822d9.setIcon(icon_1d64045981e6fb952d49f21ff14ff74c);\n        \n    \n            var marker_5957825f57694f7a1f5a2e2d4b45b5ec = L.marker(\n                [34.63283416, -120.6107455],\n                {\n  &quot;draggable&quot;: null,\n  &quot;autoPan&quot;: null,\n}\n            ).addTo(marker_cluster_8d357b8e30c7f803ffbe28e5d6934283);\n        \n    \n            var icon_51e04b27c3a23e2848f231c2693d9b1d = L.AwesomeMarkers.icon(\n                {\n  &quot;markerColor&quot;: &quot;white&quot;,\n  &quot;iconColor&quot;: &quot;red&quot;,\n  &quot;icon&quot;: &quot;info-sign&quot;,\n  &quot;prefix&quot;: &quot;glyphicon&quot;,\n  &quot;extraClasses&quot;: &quot;fa-rotate-0&quot;,\n}\n            );\n            marker_5957825f57694f7a1f5a2e2d4b45b5ec.setIcon(icon_51e04b27c3a23e2848f231c2693d9b1d);\n        \n    \n            var marker_050b022c32ef5d7e5fe5d5ab4a47ce70 = L.marker(\n                [34.63283416, -120.6107455],\n                {\n  &quot;draggable&quot;: null,\n  &quot;autoPan&quot;: null,\n}\n            ).addTo(marker_cluster_8d357b8e30c7f803ffbe28e5d6934283);\n        \n    \n            var icon_49e2699c24e09819a027f4ede9009828 = L.AwesomeMarkers.icon(\n                {\n  &quot;markerColor&quot;: &quot;white&quot;,\n  &quot;iconColor&quot;: &quot;red&quot;,\n  &quot;icon&quot;: &quot;info-sign&quot;,\n  &quot;prefix&quot;: &quot;glyphicon&quot;,\n  &quot;extraClasses&quot;: &quot;fa-rotate-0&quot;,\n}\n            );\n            marker_050b022c32ef5d7e5fe5d5ab4a47ce70.setIcon(icon_49e2699c24e09819a027f4ede9009828);\n        \n    \n            var marker_f8a27c65b0e1ac9b81c3f0996d769d83 = L.marker(\n                [34.63283416, -120.6107455],\n                {\n  &quot;draggable&quot;: null,\n  &quot;autoPan&quot;: null,\n}\n            ).addTo(marker_cluster_8d357b8e30c7f803ffbe28e5d6934283);\n        \n    \n            var icon_4a6ef5bb0bb076b09c55e842c4a3e80c = L.AwesomeMarkers.icon(\n                {\n  &quot;markerColor&quot;: &quot;white&quot;,\n  &quot;iconColor&quot;: &quot;red&quot;,\n  &quot;icon&quot;: &quot;info-sign&quot;,\n  &quot;prefix&quot;: &quot;glyphicon&quot;,\n  &quot;extraClasses&quot;: &quot;fa-rotate-0&quot;,\n}\n            );\n            marker_f8a27c65b0e1ac9b81c3f0996d769d83.setIcon(icon_4a6ef5bb0bb076b09c55e842c4a3e80c);\n        \n    \n            var marker_c8a3e578468b6b6a73d66d1217e67e55 = L.marker(\n                [34.63283416, -120.6107455],\n                {\n  &quot;draggable&quot;: null,\n  &quot;autoPan&quot;: null,\n}\n            ).addTo(marker_cluster_8d357b8e30c7f803ffbe28e5d6934283);\n        \n    \n            var icon_4c23f490622b22938406d1fd23d1b9c7 = L.AwesomeMarkers.icon(\n                {\n  &quot;markerColor&quot;: &quot;white&quot;,\n  &quot;iconColor&quot;: &quot;red&quot;,\n  &quot;icon&quot;: &quot;info-sign&quot;,\n  &quot;prefix&quot;: &quot;glyphicon&quot;,\n  &quot;extraClasses&quot;: &quot;fa-rotate-0&quot;,\n}\n            );\n            marker_c8a3e578468b6b6a73d66d1217e67e55.setIcon(icon_4c23f490622b22938406d1fd23d1b9c7);\n        \n    \n            var marker_8347633141ec239bfe427578bb7a60ee = L.marker(\n                [28.57325457, -80.64689529],\n                {\n  &quot;draggable&quot;: null,\n  &quot;autoPan&quot;: null,\n}\n            ).addTo(marker_cluster_8d357b8e30c7f803ffbe28e5d6934283);\n        \n    \n            var icon_3df1ef525cd505bff121e2a3ce097cec = L.AwesomeMarkers.icon(\n                {\n  &quot;markerColor&quot;: &quot;white&quot;,\n  &quot;iconColor&quot;: &quot;green&quot;,\n  &quot;icon&quot;: &quot;info-sign&quot;,\n  &quot;prefix&quot;: &quot;glyphicon&quot;,\n  &quot;extraClasses&quot;: &quot;fa-rotate-0&quot;,\n}\n            );\n            marker_8347633141ec239bfe427578bb7a60ee.setIcon(icon_3df1ef525cd505bff121e2a3ce097cec);\n        \n    \n            var marker_9fc45db60228463de6f954bc3f3cf6d8 = L.marker(\n                [28.57325457, -80.64689529],\n                {\n  &quot;draggable&quot;: null,\n  &quot;autoPan&quot;: null,\n}\n            ).addTo(marker_cluster_8d357b8e30c7f803ffbe28e5d6934283);\n        \n    \n            var icon_78e2bf4d9c2926003e4bcbec60d30671 = L.AwesomeMarkers.icon(\n                {\n  &quot;markerColor&quot;: &quot;white&quot;,\n  &quot;iconColor&quot;: &quot;red&quot;,\n  &quot;icon&quot;: &quot;info-sign&quot;,\n  &quot;prefix&quot;: &quot;glyphicon&quot;,\n  &quot;extraClasses&quot;: &quot;fa-rotate-0&quot;,\n}\n            );\n            marker_9fc45db60228463de6f954bc3f3cf6d8.setIcon(icon_78e2bf4d9c2926003e4bcbec60d30671);\n        \n    \n            var marker_2fe78b52f5ebce43fefed6b092a2707a = L.marker(\n                [28.57325457, -80.64689529],\n                {\n  &quot;draggable&quot;: null,\n  &quot;autoPan&quot;: null,\n}\n            ).addTo(marker_cluster_8d357b8e30c7f803ffbe28e5d6934283);\n        \n    \n            var icon_eb65990daf791b8577214e92cbf61a89 = L.AwesomeMarkers.icon(\n                {\n  &quot;markerColor&quot;: &quot;white&quot;,\n  &quot;iconColor&quot;: &quot;green&quot;,\n  &quot;icon&quot;: &quot;info-sign&quot;,\n  &quot;prefix&quot;: &quot;glyphicon&quot;,\n  &quot;extraClasses&quot;: &quot;fa-rotate-0&quot;,\n}\n            );\n            marker_2fe78b52f5ebce43fefed6b092a2707a.setIcon(icon_eb65990daf791b8577214e92cbf61a89);\n        \n    \n            var marker_b15227de6c7a450e09a00ea16f9cd4a7 = L.marker(\n                [28.57325457, -80.64689529],\n                {\n  &quot;draggable&quot;: null,\n  &quot;autoPan&quot;: null,\n}\n            ).addTo(marker_cluster_8d357b8e30c7f803ffbe28e5d6934283);\n        \n    \n            var icon_2b01cef6fa6d0d3920d03cbf29013dc5 = L.AwesomeMarkers.icon(\n                {\n  &quot;markerColor&quot;: &quot;white&quot;,\n  &quot;iconColor&quot;: &quot;green&quot;,\n  &quot;icon&quot;: &quot;info-sign&quot;,\n  &quot;prefix&quot;: &quot;glyphicon&quot;,\n  &quot;extraClasses&quot;: &quot;fa-rotate-0&quot;,\n}\n            );\n            marker_b15227de6c7a450e09a00ea16f9cd4a7.setIcon(icon_2b01cef6fa6d0d3920d03cbf29013dc5);\n        \n    \n            var marker_99e10da68552b593a3a04c0bcf19fb03 = L.marker(\n                [28.57325457, -80.64689529],\n                {\n  &quot;draggable&quot;: null,\n  &quot;autoPan&quot;: null,\n}\n            ).addTo(marker_cluster_8d357b8e30c7f803ffbe28e5d6934283);\n        \n    \n            var icon_9fcbe578a6c0fe2aefc412e3619da4f3 = L.AwesomeMarkers.icon(\n                {\n  &quot;markerColor&quot;: &quot;white&quot;,\n  &quot;iconColor&quot;: &quot;red&quot;,\n  &quot;icon&quot;: &quot;info-sign&quot;,\n  &quot;prefix&quot;: &quot;glyphicon&quot;,\n  &quot;extraClasses&quot;: &quot;fa-rotate-0&quot;,\n}\n            );\n            marker_99e10da68552b593a3a04c0bcf19fb03.setIcon(icon_9fcbe578a6c0fe2aefc412e3619da4f3);\n        \n    \n            var marker_240a748b4905756addd6164e0d6a135a = L.marker(\n                [28.57325457, -80.64689529],\n                {\n  &quot;draggable&quot;: null,\n  &quot;autoPan&quot;: null,\n}\n            ).addTo(marker_cluster_8d357b8e30c7f803ffbe28e5d6934283);\n        \n    \n            var icon_9b315059205c2a96e543ffbb72fdf1d4 = L.AwesomeMarkers.icon(\n                {\n  &quot;markerColor&quot;: &quot;white&quot;,\n  &quot;iconColor&quot;: &quot;green&quot;,\n  &quot;icon&quot;: &quot;info-sign&quot;,\n  &quot;prefix&quot;: &quot;glyphicon&quot;,\n  &quot;extraClasses&quot;: &quot;fa-rotate-0&quot;,\n}\n            );\n            marker_240a748b4905756addd6164e0d6a135a.setIcon(icon_9b315059205c2a96e543ffbb72fdf1d4);\n        \n    \n            var marker_0ad97167b0ee5ed8f459c3a5fd25a75b = L.marker(\n                [28.57325457, -80.64689529],\n                {\n  &quot;draggable&quot;: null,\n  &quot;autoPan&quot;: null,\n}\n            ).addTo(marker_cluster_8d357b8e30c7f803ffbe28e5d6934283);\n        \n    \n            var icon_bc53a22d99ffee2eaa558f76b2d098ea = L.AwesomeMarkers.icon(\n                {\n  &quot;markerColor&quot;: &quot;white&quot;,\n  &quot;iconColor&quot;: &quot;green&quot;,\n  &quot;icon&quot;: &quot;info-sign&quot;,\n  &quot;prefix&quot;: &quot;glyphicon&quot;,\n  &quot;extraClasses&quot;: &quot;fa-rotate-0&quot;,\n}\n            );\n            marker_0ad97167b0ee5ed8f459c3a5fd25a75b.setIcon(icon_bc53a22d99ffee2eaa558f76b2d098ea);\n        \n    \n            var marker_3e8d1dc7a8a7ab931bd0e67d882090d6 = L.marker(\n                [28.57325457, -80.64689529],\n                {\n  &quot;draggable&quot;: null,\n  &quot;autoPan&quot;: null,\n}\n            ).addTo(marker_cluster_8d357b8e30c7f803ffbe28e5d6934283);\n        \n    \n            var icon_ce01be89603d51eb2877ec7724a7f2ba = L.AwesomeMarkers.icon(\n                {\n  &quot;markerColor&quot;: &quot;white&quot;,\n  &quot;iconColor&quot;: &quot;red&quot;,\n  &quot;icon&quot;: &quot;info-sign&quot;,\n  &quot;prefix&quot;: &quot;glyphicon&quot;,\n  &quot;extraClasses&quot;: &quot;fa-rotate-0&quot;,\n}\n            );\n            marker_3e8d1dc7a8a7ab931bd0e67d882090d6.setIcon(icon_ce01be89603d51eb2877ec7724a7f2ba);\n        \n    \n            var marker_f76d3c00f754a8800e50273089320595 = L.marker(\n                [28.57325457, -80.64689529],\n                {\n  &quot;draggable&quot;: null,\n  &quot;autoPan&quot;: null,\n}\n            ).addTo(marker_cluster_8d357b8e30c7f803ffbe28e5d6934283);\n        \n    \n            var icon_6d13211e6515d161d15da7aac2db6577 = L.AwesomeMarkers.icon(\n                {\n  &quot;markerColor&quot;: &quot;white&quot;,\n  &quot;iconColor&quot;: &quot;green&quot;,\n  &quot;icon&quot;: &quot;info-sign&quot;,\n  &quot;prefix&quot;: &quot;glyphicon&quot;,\n  &quot;extraClasses&quot;: &quot;fa-rotate-0&quot;,\n}\n            );\n            marker_f76d3c00f754a8800e50273089320595.setIcon(icon_6d13211e6515d161d15da7aac2db6577);\n        \n    \n            var marker_969a2f82d211bb103a39efd016649269 = L.marker(\n                [28.57325457, -80.64689529],\n                {\n  &quot;draggable&quot;: null,\n  &quot;autoPan&quot;: null,\n}\n            ).addTo(marker_cluster_8d357b8e30c7f803ffbe28e5d6934283);\n        \n    \n            var icon_eee7b1c95e1560c26db306be52a61c7e = L.AwesomeMarkers.icon(\n                {\n  &quot;markerColor&quot;: &quot;white&quot;,\n  &quot;iconColor&quot;: &quot;green&quot;,\n  &quot;icon&quot;: &quot;info-sign&quot;,\n  &quot;prefix&quot;: &quot;glyphicon&quot;,\n  &quot;extraClasses&quot;: &quot;fa-rotate-0&quot;,\n}\n            );\n            marker_969a2f82d211bb103a39efd016649269.setIcon(icon_eee7b1c95e1560c26db306be52a61c7e);\n        \n    \n            var marker_a8ea5fad57f1eb6aa804953ccf8b0fa8 = L.marker(\n                [28.57325457, -80.64689529],\n                {\n  &quot;draggable&quot;: null,\n  &quot;autoPan&quot;: null,\n}\n            ).addTo(marker_cluster_8d357b8e30c7f803ffbe28e5d6934283);\n        \n    \n            var icon_258ee0437e8cbc5d7d5f7f9c1e609f5f = L.AwesomeMarkers.icon(\n                {\n  &quot;markerColor&quot;: &quot;white&quot;,\n  &quot;iconColor&quot;: &quot;green&quot;,\n  &quot;icon&quot;: &quot;info-sign&quot;,\n  &quot;prefix&quot;: &quot;glyphicon&quot;,\n  &quot;extraClasses&quot;: &quot;fa-rotate-0&quot;,\n}\n            );\n            marker_a8ea5fad57f1eb6aa804953ccf8b0fa8.setIcon(icon_258ee0437e8cbc5d7d5f7f9c1e609f5f);\n        \n    \n            var marker_f03906191c9156f4719ed1f8ba7a4b78 = L.marker(\n                [28.57325457, -80.64689529],\n                {\n  &quot;draggable&quot;: null,\n  &quot;autoPan&quot;: null,\n}\n            ).addTo(marker_cluster_8d357b8e30c7f803ffbe28e5d6934283);\n        \n    \n            var icon_9aecffe43192f9facfc10e14d28c5c74 = L.AwesomeMarkers.icon(\n                {\n  &quot;markerColor&quot;: &quot;white&quot;,\n  &quot;iconColor&quot;: &quot;green&quot;,\n  &quot;icon&quot;: &quot;info-sign&quot;,\n  &quot;prefix&quot;: &quot;glyphicon&quot;,\n  &quot;extraClasses&quot;: &quot;fa-rotate-0&quot;,\n}\n            );\n            marker_f03906191c9156f4719ed1f8ba7a4b78.setIcon(icon_9aecffe43192f9facfc10e14d28c5c74);\n        \n    \n            var marker_c17fb62fb86182cd6733828c2fa1cea9 = L.marker(\n                [28.57325457, -80.64689529],\n                {\n  &quot;draggable&quot;: null,\n  &quot;autoPan&quot;: null,\n}\n            ).addTo(marker_cluster_8d357b8e30c7f803ffbe28e5d6934283);\n        \n    \n            var icon_8e2a6ceefd65acc22bcd6cd98180f275 = L.AwesomeMarkers.icon(\n                {\n  &quot;markerColor&quot;: &quot;white&quot;,\n  &quot;iconColor&quot;: &quot;green&quot;,\n  &quot;icon&quot;: &quot;info-sign&quot;,\n  &quot;prefix&quot;: &quot;glyphicon&quot;,\n  &quot;extraClasses&quot;: &quot;fa-rotate-0&quot;,\n}\n            );\n            marker_c17fb62fb86182cd6733828c2fa1cea9.setIcon(icon_8e2a6ceefd65acc22bcd6cd98180f275);\n        \n    \n            var marker_a8fa01556dcb185a15f4809f2815a96d = L.marker(\n                [28.56319718, -80.57682003],\n                {\n  &quot;draggable&quot;: null,\n  &quot;autoPan&quot;: null,\n}\n            ).addTo(marker_cluster_8d357b8e30c7f803ffbe28e5d6934283);\n        \n    \n            var icon_3f0745e0ac7c7411c970cf4d92bef7a8 = L.AwesomeMarkers.icon(\n                {\n  &quot;markerColor&quot;: &quot;white&quot;,\n  &quot;iconColor&quot;: &quot;green&quot;,\n  &quot;icon&quot;: &quot;info-sign&quot;,\n  &quot;prefix&quot;: &quot;glyphicon&quot;,\n  &quot;extraClasses&quot;: &quot;fa-rotate-0&quot;,\n}\n            );\n            marker_a8fa01556dcb185a15f4809f2815a96d.setIcon(icon_3f0745e0ac7c7411c970cf4d92bef7a8);\n        \n    \n            var marker_3b0ef7edf78a60a4cadcfbc3013b568a = L.marker(\n                [28.56319718, -80.57682003],\n                {\n  &quot;draggable&quot;: null,\n  &quot;autoPan&quot;: null,\n}\n            ).addTo(marker_cluster_8d357b8e30c7f803ffbe28e5d6934283);\n        \n    \n            var icon_0f9527036ec88f11379b2b8805dadb66 = L.AwesomeMarkers.icon(\n                {\n  &quot;markerColor&quot;: &quot;white&quot;,\n  &quot;iconColor&quot;: &quot;green&quot;,\n  &quot;icon&quot;: &quot;info-sign&quot;,\n  &quot;prefix&quot;: &quot;glyphicon&quot;,\n  &quot;extraClasses&quot;: &quot;fa-rotate-0&quot;,\n}\n            );\n            marker_3b0ef7edf78a60a4cadcfbc3013b568a.setIcon(icon_0f9527036ec88f11379b2b8805dadb66);\n        \n    \n            var marker_3f8bfe0824e89300162b7fa560f55db8 = L.marker(\n                [28.56319718, -80.57682003],\n                {\n  &quot;draggable&quot;: null,\n  &quot;autoPan&quot;: null,\n}\n            ).addTo(marker_cluster_8d357b8e30c7f803ffbe28e5d6934283);\n        \n    \n            var icon_c6f724dbb32ca9923dad0ee4ba57323e = L.AwesomeMarkers.icon(\n                {\n  &quot;markerColor&quot;: &quot;white&quot;,\n  &quot;iconColor&quot;: &quot;red&quot;,\n  &quot;icon&quot;: &quot;info-sign&quot;,\n  &quot;prefix&quot;: &quot;glyphicon&quot;,\n  &quot;extraClasses&quot;: &quot;fa-rotate-0&quot;,\n}\n            );\n            marker_3f8bfe0824e89300162b7fa560f55db8.setIcon(icon_c6f724dbb32ca9923dad0ee4ba57323e);\n        \n    \n            var marker_63ba9ebe11152913700697b59cea20d3 = L.marker(\n                [28.56319718, -80.57682003],\n                {\n  &quot;draggable&quot;: null,\n  &quot;autoPan&quot;: null,\n}\n            ).addTo(marker_cluster_8d357b8e30c7f803ffbe28e5d6934283);\n        \n    \n            var icon_fee78033c0f39c8efe195b376208eaa1 = L.AwesomeMarkers.icon(\n                {\n  &quot;markerColor&quot;: &quot;white&quot;,\n  &quot;iconColor&quot;: &quot;red&quot;,\n  &quot;icon&quot;: &quot;info-sign&quot;,\n  &quot;prefix&quot;: &quot;glyphicon&quot;,\n  &quot;extraClasses&quot;: &quot;fa-rotate-0&quot;,\n}\n            );\n            marker_63ba9ebe11152913700697b59cea20d3.setIcon(icon_fee78033c0f39c8efe195b376208eaa1);\n        \n    \n            var marker_ac98d341e849f42c0b48ed1ba8e5a7f5 = L.marker(\n                [28.56319718, -80.57682003],\n                {\n  &quot;draggable&quot;: null,\n  &quot;autoPan&quot;: null,\n}\n            ).addTo(marker_cluster_8d357b8e30c7f803ffbe28e5d6934283);\n        \n    \n            var icon_37a812b44c572b2e27c64540d58421fc = L.AwesomeMarkers.icon(\n                {\n  &quot;markerColor&quot;: &quot;white&quot;,\n  &quot;iconColor&quot;: &quot;red&quot;,\n  &quot;icon&quot;: &quot;info-sign&quot;,\n  &quot;prefix&quot;: &quot;glyphicon&quot;,\n  &quot;extraClasses&quot;: &quot;fa-rotate-0&quot;,\n}\n            );\n            marker_ac98d341e849f42c0b48ed1ba8e5a7f5.setIcon(icon_37a812b44c572b2e27c64540d58421fc);\n        \n    \n            var marker_b4dbc9b412f0b89fd879939665767d23 = L.marker(\n                [28.56319718, -80.57682003],\n                {\n  &quot;draggable&quot;: null,\n  &quot;autoPan&quot;: null,\n}\n            ).addTo(marker_cluster_8d357b8e30c7f803ffbe28e5d6934283);\n        \n    \n            var icon_6ecbbb5004f918f7e9155167caee45b1 = L.AwesomeMarkers.icon(\n                {\n  &quot;markerColor&quot;: &quot;white&quot;,\n  &quot;iconColor&quot;: &quot;green&quot;,\n  &quot;icon&quot;: &quot;info-sign&quot;,\n  &quot;prefix&quot;: &quot;glyphicon&quot;,\n  &quot;extraClasses&quot;: &quot;fa-rotate-0&quot;,\n}\n            );\n            marker_b4dbc9b412f0b89fd879939665767d23.setIcon(icon_6ecbbb5004f918f7e9155167caee45b1);\n        \n    \n            var marker_8251e73462b6d4d3ba8819678f6d2e5a = L.marker(\n                [28.56319718, -80.57682003],\n                {\n  &quot;draggable&quot;: null,\n  &quot;autoPan&quot;: null,\n}\n            ).addTo(marker_cluster_8d357b8e30c7f803ffbe28e5d6934283);\n        \n    \n            var icon_680f7708764a7dfd65ef710bd7f81ed2 = L.AwesomeMarkers.icon(\n                {\n  &quot;markerColor&quot;: &quot;white&quot;,\n  &quot;iconColor&quot;: &quot;red&quot;,\n  &quot;icon&quot;: &quot;info-sign&quot;,\n  &quot;prefix&quot;: &quot;glyphicon&quot;,\n  &quot;extraClasses&quot;: &quot;fa-rotate-0&quot;,\n}\n            );\n            marker_8251e73462b6d4d3ba8819678f6d2e5a.setIcon(icon_680f7708764a7dfd65ef710bd7f81ed2);\n        \n    \n            marker_cluster_8d357b8e30c7f803ffbe28e5d6934283.addTo(map_2d6d2b965167c3f87b9a4a7fc0133119);\n        \n&lt;/script&gt;\n&lt;/html&gt;\" style=\"position:absolute;width:100%;height:100%;left:0;top:0;border:none !important;\" allowfullscreen webkitallowfullscreen mozallowfullscreen></iframe></div></div>"
          },
          "metadata": {}
        }
      ],
      "execution_count": 11
    },
    {
      "cell_type": "markdown",
      "source": "Your updated map may look like the following screenshots:\n",
      "metadata": {}
    },
    {
      "cell_type": "markdown",
      "source": "<center>\n    <img src=\"https://cf-courses-data.s3.us.cloud-object-storage.appdomain.cloud/IBM-DS0321EN-SkillsNetwork/labs/module_3/images/launch_site_marker_cluster.png\">\n</center>\n",
      "metadata": {}
    },
    {
      "cell_type": "markdown",
      "source": "<center>\n    <img src=\"https://cf-courses-data.s3.us.cloud-object-storage.appdomain.cloud/IBM-DS0321EN-SkillsNetwork/labs/module_3/images/launch_site_marker_cluster_zoomed.png\">\n</center>\n",
      "metadata": {}
    },
    {
      "cell_type": "markdown",
      "source": "From the color-labeled markers in marker clusters, you should be able to easily identify which launch sites have relatively high success rates.\n",
      "metadata": {}
    },
    {
      "cell_type": "code",
      "source": "# TASK 3: Calculate the distances between a launch site to its proximities\n",
      "metadata": {},
      "outputs": [],
      "execution_count": null
    },
    {
      "cell_type": "markdown",
      "source": "Next, we need to explore and analyze the proximities of launch sites.\n",
      "metadata": {}
    },
    {
      "cell_type": "markdown",
      "source": "Let's first add a `MousePosition` on the map to get coordinate for a mouse over a point on the map. As such, while you are exploring the map, you can easily find the coordinates of any points of interests (such as railway)\n",
      "metadata": {}
    },
    {
      "cell_type": "code",
      "source": "# Add Mouse Position to get the coordinate (Lat, Long) for a mouse over on the map\nformatter = \"function(num) {return L.Util.formatNum(num, 5);};\"\nmouse_position = MousePosition(\n    position='topright',\n    separator=' Long: ',\n    empty_string='NaN',\n    lng_first=False,\n    num_digits=20,\n    prefix='Lat:',\n    lat_formatter=formatter,\n    lng_formatter=formatter,\n)\n\nsite_map.add_child(mouse_position)\nsite_map",
      "metadata": {},
      "outputs": [],
      "execution_count": null
    },
    {
      "cell_type": "markdown",
      "source": "Now zoom in to a launch site and explore its proximity to see if you can easily find any railway, highway, coastline, etc. Move your mouse to these points and mark down their coordinates (shown on the top-left) in order to the distance to the launch site.\n",
      "metadata": {}
    },
    {
      "cell_type": "markdown",
      "source": "Now zoom in to a launch site and explore its proximity to see if you can easily find any railway, highway, coastline, etc. Move your mouse to these points and mark down their coordinates (shown on the top-left) in order to the distance to the launch site.\n",
      "metadata": {}
    },
    {
      "cell_type": "code",
      "source": "from math import sin, cos, sqrt, atan2, radians\n\ndef calculate_distance(lat1, lon1, lat2, lon2):\n    # approximate radius of earth in km\n    R = 6373.0\n\n    lat1 = radians(lat1)\n    lon1 = radians(lon1)\n    lat2 = radians(lat2)\n    lon2 = radians(lon2)\n\n    dlon = lon2 - lon1\n    dlat = lat2 - lat1\n\n    a = sin(dlat / 2)**2 + cos(lat1) * cos(lat2) * sin(dlon / 2)**2\n    c = 2 * atan2(sqrt(a), sqrt(1 - a))\n\n    distance = R * c\n    return distance",
      "metadata": {},
      "outputs": [],
      "execution_count": null
    },
    {
      "cell_type": "markdown",
      "source": "*TODO:* Mark down a point on the closest coastline using MousePosition and calculate the distance between the coastline point and the launch site.\n",
      "metadata": {}
    },
    {
      "cell_type": "code",
      "source": "# find coordinate of the closet coastline\n# e.g.,: Lat: 28.56367  Lon: -80.57163\n# distance_coastline = calculate_distance(launch_site_lat, launch_site_lon, coastline_lat, coastline_lon)",
      "metadata": {},
      "outputs": [],
      "execution_count": null
    },
    {
      "cell_type": "code",
      "source": "# Create and add a folium.Marker on your selected closest coastline point on the map\n# Display the distance between coastline point and launch site using the icon property \n# for example\n# distance_marker = folium.Marker(\n#    coordinate,\n#    icon=DivIcon(\n#        icon_size=(20,20),\n#        icon_anchor=(0,0),\n#        html='<div style=\"font-size: 12; color:#d35400;\"><b>%s</b></div>' % \"{:10.2f} KM\".format(distance),\n#        )\n#    )",
      "metadata": {},
      "outputs": [],
      "execution_count": null
    },
    {
      "cell_type": "markdown",
      "source": "*TODO:* Draw a `PolyLine` between a launch site to the selected coastline point\n",
      "metadata": {}
    },
    {
      "cell_type": "code",
      "source": "# Create a `folium.PolyLine` object using the coastline coordinates and launch site coordinate\n# lines=folium.PolyLine(locations=coordinates, weight=1)\nsite_map.add_child(lines)",
      "metadata": {},
      "outputs": [],
      "execution_count": null
    },
    {
      "cell_type": "markdown",
      "source": "Your updated map with distance line should look like the following screenshot:\n",
      "metadata": {}
    },
    {
      "cell_type": "markdown",
      "source": "<center>\n    <img src=\"https://cf-courses-data.s3.us.cloud-object-storage.appdomain.cloud/IBM-DS0321EN-SkillsNetwork/labs/module_3/images/launch_site_marker_distance.png\">\n</center>\n",
      "metadata": {}
    },
    {
      "cell_type": "markdown",
      "source": "*TODO:* Similarly, you can draw a line betwee a launch site to its closest city, railway, highway, etc. You need to use `MousePosition` to find the their coordinates on the map first\n",
      "metadata": {}
    },
    {
      "cell_type": "markdown",
      "source": "A railway map symbol may look like this:\n",
      "metadata": {}
    },
    {
      "cell_type": "markdown",
      "source": "<center>\n    <img src=\"https://cf-courses-data.s3.us.cloud-object-storage.appdomain.cloud/IBM-DS0321EN-SkillsNetwork/labs/module_3/images/railway.png\">\n</center>\n",
      "metadata": {}
    },
    {
      "cell_type": "markdown",
      "source": "A highway map symbol may look like this:\n",
      "metadata": {}
    },
    {
      "cell_type": "markdown",
      "source": "<center>\n    <img src=\"https://cf-courses-data.s3.us.cloud-object-storage.appdomain.cloud/IBM-DS0321EN-SkillsNetwork/labs/module_3/images/highway.png\">\n</center>\n",
      "metadata": {}
    },
    {
      "cell_type": "markdown",
      "source": "A city map symbol may look like this:\n",
      "metadata": {}
    },
    {
      "cell_type": "markdown",
      "source": "<center>\n    <img src=\"https://cf-courses-data.s3.us.cloud-object-storage.appdomain.cloud/IBM-DS0321EN-SkillsNetwork/labs/module_3/images/city.png\">\n</center>\n",
      "metadata": {}
    },
    {
      "cell_type": "code",
      "source": "# Create a marker with distance to a closest city, railway, highway, etc.\n# Draw a line between the marker to the launch site\n",
      "metadata": {},
      "outputs": [],
      "execution_count": null
    },
    {
      "cell_type": "code",
      "source": "",
      "metadata": {},
      "outputs": [],
      "execution_count": null
    },
    {
      "cell_type": "code",
      "source": "",
      "metadata": {},
      "outputs": [],
      "execution_count": null
    },
    {
      "cell_type": "markdown",
      "source": "After you plot distance lines to the proximities, you can answer the following questions easily:\n\n*   Are launch sites in close proximity to railways?\n*   Are launch sites in close proximity to highways?\n*   Are launch sites in close proximity to coastline?\n*   Do launch sites keep certain distance away from cities?\n\nAlso please try to explain your findings.\n",
      "metadata": {}
    },
    {
      "cell_type": "markdown",
      "source": "# Next Steps:\n\nNow you have discovered many interesting insights related to the launch sites' location using folium, in a very interactive way. Next, you will need to build a dashboard using Ploty Dash on detailed launch records.\n",
      "metadata": {}
    },
    {
      "cell_type": "markdown",
      "source": "## Authors\n",
      "metadata": {}
    },
    {
      "cell_type": "markdown",
      "source": "[Pratiksha Verma](https://www.linkedin.com/in/pratiksha-verma-6487561b1/)\n",
      "metadata": {}
    },
    {
      "cell_type": "markdown",
      "source": "<!--## Change Log--!>\n",
      "metadata": {}
    },
    {
      "cell_type": "markdown",
      "source": "<!--| Date (YYYY-MM-DD) | Version | Changed By      | Change Description      |\n| ----------------- | ------- | -------------   | ----------------------- |\n| 2022-11-09        | 1.0     | Pratiksha Verma | Converted initial version to Jupyterlite|--!>\n",
      "metadata": {}
    },
    {
      "cell_type": "markdown",
      "source": "### <h3 align=\"center\"> IBM Corporation 2022. All rights reserved. <h3/>\n",
      "metadata": {}
    }
  ]
}